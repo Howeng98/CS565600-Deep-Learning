{
  "nbformat": 4,
  "nbformat_minor": 0,
  "metadata": {
    "colab": {
      "name": "Lab08_110062401.ipynb",
      "provenance": [],
      "collapsed_sections": []
    },
    "kernelspec": {
      "name": "python3",
      "display_name": "Python 3"
    },
    "language_info": {
      "name": "python"
    }
  },
  "cells": [
    {
      "cell_type": "code",
      "metadata": {
        "id": "eAdcPO-dS2HO"
      },
      "source": [
        "# inline plotting instead of popping out\n",
        "%matplotlib inline\n",
        "\n",
        "# python 3.6.8\n",
        "import os, itertools, csv\n",
        "\n",
        "from IPython.display import Image\n",
        "from IPython.display import display\n",
        "\n",
        "# numpy  1.19.5\n",
        "import numpy as np\n",
        "\n",
        "# pandas  0.25.3\n",
        "import pandas as pd\n",
        "\n",
        "# scikit-learn  0.22\n",
        "from sklearn import datasets\n",
        "load_iris = datasets.load_iris\n",
        "make_moons = datasets.make_moons\n",
        "from sklearn.ensemble import AdaBoostClassifier, BaggingClassifier, VotingClassifier\n",
        "from sklearn.linear_model import LinearRegression, LogisticRegression\n",
        "from sklearn.metrics import accuracy_score, mean_squared_error, roc_curve, auc, roc_auc_score\n",
        "from sklearn.model_selection import train_test_split, KFold, GridSearchCV, cross_val_score\n",
        "from sklearn.neighbors import KNeighborsClassifier\n",
        "from sklearn.pipeline import Pipeline\n",
        "from sklearn.preprocessing import StandardScaler, PolynomialFeatures, LabelEncoder\n",
        "from sklearn.tree import DecisionTreeClassifier\n",
        "from sklearn.svm import SVC\n",
        "\n",
        "# matplotlib  3.1.2\n",
        "import matplotlib.pyplot as plt\n",
        "from matplotlib.colors import ListedColormap\n",
        "plt.style.use('seaborn')\n",
        "import seaborn as sns\n",
        "\n",
        "# Make output directory\n",
        "if not os.path.exists(\"output/\") : os.mkdir(\"output/\")"
      ],
      "execution_count": 274,
      "outputs": []
    },
    {
      "cell_type": "code",
      "metadata": {
        "id": "4cIP60GfMNxb"
      },
      "source": [
        "\n",
        "def plot_decision_regions(X, y, classifier, test_idx=None, resolution=0.02):\n",
        "\n",
        "    # setup marker generator and color map\n",
        "    markers = ('s', 'x', 'o', '^', 'v')\n",
        "    colors = ('red', 'blue', 'lightgreen', 'gray', 'cyan')\n",
        "    cmap = ListedColormap(colors[:len(np.unique(y))])\n",
        "\n",
        "    # plot the decision surface\n",
        "    x1_min, x1_max = X[:, 0].min() - 1, X[:, 0].max() + 1\n",
        "    x2_min, x2_max = X[:, 1].min() - 1, X[:, 1].max() + 1\n",
        "    xx1, xx2 = np.meshgrid(np.arange(x1_min, x1_max, resolution),\n",
        "                           np.arange(x2_min, x2_max, resolution))\n",
        "    \n",
        "    Z = classifier.predict(np.array([xx1.ravel(), xx2.ravel()]).T)\n",
        "    Z = Z.reshape(xx1.shape)\n",
        "    plt.contourf(xx1, xx2, Z, alpha=0.4, cmap=cmap)\n",
        "    plt.xlim(xx1.min(), xx1.max())\n",
        "    plt.ylim(xx2.min(), xx2.max())\n",
        "\n",
        "    # plot class samples\n",
        "    for idx, cl in enumerate(np.unique(y)):\n",
        "        plt.scatter(\n",
        "            x = X[y == cl, 0],\n",
        "            y = X[y == cl, 1],\n",
        "            alpha = 0.8,\n",
        "            c = [cmap(idx)],  # Prevents warning\n",
        "            linewidths = 1,\n",
        "            marker = markers[idx],\n",
        "            label = cl,\n",
        "            edgecolors = 'k'\n",
        "        )\n",
        "\n",
        "\n",
        "    # highlight test samples\n",
        "    if test_idx:\n",
        "        X_test, y_test = X[test_idx, :], y[test_idx]\n",
        "\n",
        "        plt.scatter(X_test[:, 0],\n",
        "                    X_test[:, 1],\n",
        "                    facecolor='none',\n",
        "                    alpha=1.0,\n",
        "                    linewidths=1,\n",
        "                    marker='o',\n",
        "                    edgecolors='black',\n",
        "                    s=55, label='test set')"
      ],
      "execution_count": 206,
      "outputs": []
    },
    {
      "cell_type": "code",
      "metadata": {
        "colab": {
          "base_uri": "https://localhost:8080/",
          "height": 282
        },
        "id": "J1debG3gAvfO",
        "outputId": "6f2ce1eb-f083-4ea5-c2c9-21511c927c18"
      },
      "source": [
        "file = open('./train.csv', encoding='utf-8')\n",
        "reader = csv.reader(file)\n",
        "next(reader)\n",
        "X = np.ndarray((0, 2))\n",
        "y = np.ndarray((0,))\n",
        "y_mapping = {'Bob': 0, 'Kate': 1, 'Mark': 2, 'Sue': 3}\n",
        "i = 0\n",
        "for row in reader:\n",
        "    i += 1\n",
        "    X = np.vstack((X, np.array(row[0:2])))\n",
        "    y = np.append(y, y_mapping[row[2]])\n",
        "X = X.astype(np.float)\n",
        "y = y.astype(np.float)\n",
        "file.close()\n",
        "\n",
        "plt.scatter(X[y == 0, 0], X[y == 0, 1], label='Bob', c='red', linewidths=0)\n",
        "plt.scatter(\n",
        "    X[y == 1, 0], X[y == 1, 1], label='Kate', c='lightgreen', linewidths=0)\n",
        "plt.scatter(\n",
        "    X[y == 2, 0], X[y == 2, 1], label='Mark', c='lightblue', linewidths=0)\n",
        "plt.scatter(X[y == 3, 0], X[y == 3, 1], label='Sue', c='purple', linewidths=0)"
      ],
      "execution_count": 209,
      "outputs": [
        {
          "output_type": "execute_result",
          "data": {
            "text/plain": [
              "<matplotlib.collections.PathCollection at 0x7f768db58e10>"
            ]
          },
          "metadata": {},
          "execution_count": 209
        },
        {
          "output_type": "display_data",
          "data": {
            "image/png": "[encoded data removed]",
            "text/plain": [
              "<Figure size 432x288 with 1 Axes>"
            ]
          },
          "metadata": {
            "needs_background": "light"
          }
        }
      ]
    },
    {
      "cell_type": "code",
      "metadata": {
        "colab": {
          "base_uri": "https://localhost:8080/",
          "height": 204
        },
        "id": "agMi35h2TFfl",
        "outputId": "dedbb9dc-f12e-49bf-ce46-2e58a08d661f"
      },
      "source": [
        "train_csv_url = 'https://raw.githubusercontent.com/nthu-datalab/ml/master/labs/08_CV_Ensembling/CV_playground_dataset/train.csv'\n",
        "test_csv_url = 'https://raw.githubusercontent.com/nthu-datalab/ml/master/labs/08_CV_Ensembling/CV_playground_dataset/test.csv'\n",
        "\n",
        "train_df = pd.read_csv(train_csv_url)\n",
        "# train_df.head()\n",
        "\n",
        "label_le = LabelEncoder()\n",
        "train_df['Competitor'] = label_le.fit_transform(train_df['Competitor'].values)\n",
        "x_train = (train_df.drop('Competitor', axis=1).values)\n",
        "y_train = (train_df['Competitor'].values)\n",
        "# print(y_train)\n",
        "\n",
        "test_df = pd.read_csv(test_csv_url)\n",
        "display(test_df.head())\n",
        "test_df['Competitor'] = label_le.fit_transform(test_df['Competitor'].values)\n",
        "x_test = (test_df.drop('Competitor', axis=1).values)\n",
        "y_test = (test_df['Competitor'].values)\n"
      ],
      "execution_count": 214,
      "outputs": [
        {
          "output_type": "display_data",
          "data": {
            "text/html": [
              "<div>\n",
              "<style scoped>\n",
              "    .dataframe tbody tr th:only-of-type {\n",
              "        vertical-align: middle;\n",
              "    }\n",
              "\n",
              "    .dataframe tbody tr th {\n",
              "        vertical-align: top;\n",
              "    }\n",
              "\n",
              "    .dataframe thead th {\n",
              "        text-align: right;\n",
              "    }\n",
              "</style>\n",
              "<table border=\"1\" class=\"dataframe\">\n",
              "  <thead>\n",
              "    <tr style=\"text-align: right;\">\n",
              "      <th></th>\n",
              "      <th>YCord</th>\n",
              "      <th>XCord</th>\n",
              "      <th>Competitor</th>\n",
              "    </tr>\n",
              "  </thead>\n",
              "  <tbody>\n",
              "    <tr>\n",
              "      <th>0</th>\n",
              "      <td>-0.608675</td>\n",
              "      <td>0.769448</td>\n",
              "      <td>Bob</td>\n",
              "    </tr>\n",
              "    <tr>\n",
              "      <th>1</th>\n",
              "      <td>-0.557823</td>\n",
              "      <td>0.502202</td>\n",
              "      <td>Sue</td>\n",
              "    </tr>\n",
              "    <tr>\n",
              "      <th>2</th>\n",
              "      <td>-0.657171</td>\n",
              "      <td>0.480321</td>\n",
              "      <td>Sue</td>\n",
              "    </tr>\n",
              "    <tr>\n",
              "      <th>3</th>\n",
              "      <td>-0.381579</td>\n",
              "      <td>-0.882649</td>\n",
              "      <td>Bob</td>\n",
              "    </tr>\n",
              "    <tr>\n",
              "      <th>4</th>\n",
              "      <td>0.643482</td>\n",
              "      <td>-0.663414</td>\n",
              "      <td>Bob</td>\n",
              "    </tr>\n",
              "  </tbody>\n",
              "</table>\n",
              "</div>"
            ],
            "text/plain": [
              "      YCord     XCord Competitor\n",
              "0 -0.608675  0.769448        Bob\n",
              "1 -0.557823  0.502202        Sue\n",
              "2 -0.657171  0.480321        Sue\n",
              "3 -0.381579 -0.882649        Bob\n",
              "4  0.643482 -0.663414        Bob"
            ]
          },
          "metadata": {}
        }
      ]
    },
    {
      "cell_type": "markdown",
      "metadata": {
        "id": "KmfZiD2Ff1AR"
      },
      "source": [
        "# LogisticRegression"
      ]
    },
    {
      "cell_type": "code",
      "metadata": {
        "colab": {
          "base_uri": "https://localhost:8080/"
        },
        "id": "HU6gTE4Kf0q_",
        "outputId": "7522d51b-7049-4113-ebf4-216eb466f19a"
      },
      "source": [
        "lr_pipeline = Pipeline(\n",
        "    steps=[\n",
        "      (\"scl\", StandardScaler()),\n",
        "      ('clf', LogisticRegression(C = 10, random_state = 0, solver = \"liblinear\"))\n",
        "    ]\n",
        ")\n",
        "\n",
        "params_grid = {\n",
        "    'clf__C': [1, 3, 5, 7, 10, 15, 20, 50, 100]   \n",
        "}\n",
        "\n",
        "grid = GridSearchCV(\n",
        "    estimator = lr_pipeline, \n",
        "    param_grid = params_grid, \n",
        "    scoring = \"accuracy\", \n",
        "    cv = 3\n",
        ")\n",
        "grid.fit(x_train, y_train)\n",
        "\n",
        "print(\"[LR_GS]\")\n",
        "print(\"Train Acc:\", grid.score(x_train, y_train))\n",
        "print(\"Test  Acc:\", grid.score(x_test, y_test))\n",
        "print(\"Best Param:\", grid.best_params_)"
      ],
      "execution_count": 240,
      "outputs": [
        {
          "output_type": "stream",
          "name": "stdout",
          "text": [
            "[LR_GS]\n",
            "Train Acc: 0.2859078590785908\n",
            "Test  Acc: 0.2702702702702703\n",
            "Best Param: {'clf__C': 1}\n"
          ]
        }
      ]
    },
    {
      "cell_type": "markdown",
      "metadata": {
        "id": "TKWMxi_rhGeT"
      },
      "source": [
        "# DecisionTreeClassfier"
      ]
    },
    {
      "cell_type": "code",
      "metadata": {
        "colab": {
          "base_uri": "https://localhost:8080/"
        },
        "id": "37otB-I1gsIN",
        "outputId": "cee5db52-d92b-4303-c0de-56579b3e0079"
      },
      "source": [
        "dt_pipeline = Pipeline(\n",
        "    steps=[\n",
        "      (\"scl\", StandardScaler()),\n",
        "      ('clf', DecisionTreeClassifier(max_depth = None, random_state = 0)) \n",
        "    ]\n",
        ")\n",
        "\n",
        "params_grid = {\n",
        "    'clf__max_depth': [None, 1, 3, 5, 7, 8, 9, 10, 12, 15, 20]\n",
        "}\n",
        "\n",
        "grid = GridSearchCV(\n",
        "    estimator = dt_pipeline, \n",
        "    param_grid = params_grid, \n",
        "    scoring = \"accuracy\", \n",
        "    cv = 3\n",
        ")\n",
        "grid.fit(x_train, y_train)\n",
        "\n",
        "print(\"[DT_GS]\")\n",
        "print(\"Train Acc:\", grid.score(x_train, y_train))\n",
        "print(\"Test  Acc:\", grid.score(x_test, y_test))\n",
        "print(\"Best Param:\", grid.best_params_)"
      ],
      "execution_count": 238,
      "outputs": [
        {
          "output_type": "stream",
          "name": "stdout",
          "text": [
            "[DT_GS]\n",
            "Train Acc: 0.8929539295392954\n",
            "Test  Acc: 0.7837837837837838\n",
            "Best Param: {'clf__max_depth': 7}\n"
          ]
        }
      ]
    },
    {
      "cell_type": "markdown",
      "metadata": {
        "id": "clhNEC-CZ6tJ"
      },
      "source": [
        "# KNN"
      ]
    },
    {
      "cell_type": "code",
      "metadata": {
        "colab": {
          "base_uri": "https://localhost:8080/"
        },
        "id": "Kraq-ImTZ579",
        "outputId": "a39ed7b9-d3db-47d6-b86f-097b775a92db"
      },
      "source": [
        "knn_pipeline = Pipeline(\n",
        "    steps=[\n",
        "      (\"scl\", StandardScaler()),\n",
        "      (\"clf\", KNeighborsClassifier(n_neighbors = 10, p = 2, metric = \"minkowski\"))     \n",
        "    ]\n",
        "\n",
        ")\n",
        "\n",
        "params_grid = {\n",
        "    'clf__n_neighbors': [1, 3, 5, 7, 10, 12, 15, 20],\n",
        "}\n",
        "\n",
        "grid = GridSearchCV(\n",
        "    estimator = knn_pipeline, \n",
        "    param_grid = params_grid, \n",
        "    scoring = \"accuracy\", \n",
        "    cv = 3\n",
        ")\n",
        "grid.fit(x_train, y_train)\n",
        "knn_best_params_ = grid.best_params_\n",
        "\n",
        "print(\"[KNN_GS]\")\n",
        "print(\"Train Acc:\", grid.score(x_train, y_train))\n",
        "print(\"Test  Acc:\", grid.score(x_test, y_test))\n",
        "print(\"Best Param:\", grid.best_params_)"
      ],
      "execution_count": 243,
      "outputs": [
        {
          "output_type": "stream",
          "name": "stdout",
          "text": [
            "[KNN_GS]\n",
            "Train Acc: 0.9065040650406504\n",
            "Test  Acc: 0.7891891891891892\n",
            "Best Param: {'clf__n_neighbors': 3}\n"
          ]
        }
      ]
    },
    {
      "cell_type": "markdown",
      "metadata": {
        "id": "yU7s9jz6fCrE"
      },
      "source": [
        "# SVC"
      ]
    },
    {
      "cell_type": "code",
      "metadata": {
        "colab": {
          "base_uri": "https://localhost:8080/"
        },
        "id": "L0zl4N51fBnw",
        "outputId": "6cede775-f348-4ee8-b3ff-ba66a9cdb72d"
      },
      "source": [
        "svc_pipeline = Pipeline(\n",
        "    steps=[\n",
        "      (\"scl\", StandardScaler()),\n",
        "      (\"clf\", SVC(kernel='rbf', random_state=0, gamma=0.001, C=100.0))  \n",
        "    ]\n",
        ")\n",
        "\n",
        "params_grid = {\n",
        "    'clf__kernel': ['rbf'],\n",
        "    'clf__gamma': [0.0001, 0.001, 0.01, 0.1, 1.0],\n",
        "    'clf__C': [0.1, 1.0, 10.0, 100.0]\n",
        "}\n",
        "\n",
        "grid = GridSearchCV(\n",
        "    estimator = svc_pipeline, \n",
        "    param_grid = params_grid, \n",
        "    scoring = \"accuracy\", \n",
        "    cv = 3\n",
        ")\n",
        "grid.fit(x_train, y_train)\n",
        "\n",
        "print(\"[SVC_GS]\")\n",
        "print(\"Train Acc:\", grid.score(x_train, y_train))\n",
        "print(\"Test  Acc:\", grid.score(x_test, y_test))\n",
        "print(\"Best Param:\", grid.best_params_)"
      ],
      "execution_count": 233,
      "outputs": [
        {
          "output_type": "stream",
          "name": "stdout",
          "text": [
            "[SVC_GS]\n",
            "Train Acc: 0.8943089430894309\n",
            "Test  Acc: 0.8486486486486486\n",
            "Best Param: {'clf__C': 100.0, 'clf__gamma': 1.0, 'clf__kernel': 'rbf'}\n"
          ]
        }
      ]
    },
    {
      "cell_type": "markdown",
      "metadata": {
        "id": "HSEelfGqGqT_"
      },
      "source": [
        "# Voting"
      ]
    },
    {
      "cell_type": "code",
      "metadata": {
        "colab": {
          "base_uri": "https://localhost:8080/"
        },
        "id": "Gi-nM5CkFlhw",
        "outputId": "ec264313-65fb-4d1c-848d-31c70830a18f"
      },
      "source": [
        "\n",
        "#pipe\n",
        "dt_pipeline = Pipeline(\n",
        "    steps=[\n",
        "      (\"scl\", StandardScaler()),\n",
        "      ('clf', DecisionTreeClassifier(max_depth = 7, random_state = 0)) \n",
        "    ]\n",
        ")\n",
        "\n",
        "knn_pipeline = Pipeline(\n",
        "    steps=[\n",
        "      (\"scl\", StandardScaler()),\n",
        "      (\"clf\", KNeighborsClassifier(n_neighbors = 10, p = 2, metric = \"minkowski\"))     \n",
        "    ]\n",
        "\n",
        ")\n",
        "\n",
        "svc_pipeline = Pipeline(\n",
        "    steps=[\n",
        "      (\"scl\", StandardScaler()),\n",
        "      (\"clf\", SVC(kernel='rbf', random_state=0, gamma=0.001, C=100.0, probability=True))  \n",
        "    ]\n",
        ")\n",
        "\n",
        "# pipe1 = Pipeline([['sc', StandardScaler()], ['clf', LogisticRegression(C = 10, random_state = 0, solver = \"liblinear\")]])\n",
        "# pipe2 = Pipeline([['clf', DecisionTreeClassifier(max_depth = None, random_state = 0)]])\n",
        "# pipe3 = Pipeline([['sc', StandardScaler()], ['clf', KNeighborsClassifier(n_neighbors = 5)]])\n",
        "\n",
        "#voting\n",
        "clf_labels = ['DecisionTreeClassifier', 'KNeighborsClassifier', 'SVC']\n",
        "\n",
        "best_vt, best_w, best_score = None, (), -1\n",
        "for a, b, c in list(itertools.permutations(range(0,3))):\n",
        "    clf = VotingClassifier(estimators=[('DecisionTreeClassifier', dt_pipeline), ('KNeighborsClassifier', knn_pipeline), ('SVC', svc_pipeline)], \n",
        "                           voting='soft', weights=[a,b,c])\n",
        "    scores = cross_val_score(estimator=clf, X=x_train, y=y_train, cv=10)\n",
        "    print('%s: %.3f (+/- %.3f)' % ((a,b,c), scores.mean(), scores.std()))\n",
        "    if best_score < scores.mean():\n",
        "        best_vt, best_w, best_score = clf, (a, b, c), scores.mean()\n",
        "\n",
        "print(\"[Voting]\")\n",
        "print('\\nBest %s: %.3f' % (best_w, best_score))\n",
        "voting = best_vt.fit(x_train, y_train)\n",
        "y_train_pred = voting.predict(x_train)\n",
        "y_test_pred = voting.predict(x_test)\n",
        "voting_train = accuracy_score(y_train, y_train_pred) \n",
        "voting_test = accuracy_score(y_test, y_test_pred)\n",
        "print(\"Train Acc:\", voting_train)\n",
        "print(\"Test  Acc:\", voting_test)"
      ],
      "execution_count": 252,
      "outputs": [
        {
          "output_type": "stream",
          "name": "stdout",
          "text": [
            "(0, 1, 2): 0.786 (+/- 0.058)\n",
            "(0, 2, 1): 0.801 (+/- 0.055)\n",
            "(1, 0, 2): 0.797 (+/- 0.046)\n",
            "(1, 2, 0): 0.818 (+/- 0.041)\n",
            "(2, 0, 1): 0.791 (+/- 0.050)\n",
            "(2, 1, 0): 0.804 (+/- 0.041)\n",
            "[Voting]\n",
            "\n",
            "Best (1, 2, 0): 0.818\n",
            "Train Acc: 0.8970189701897019\n",
            "Test  Acc: 0.7675675675675676\n"
          ]
        }
      ]
    },
    {
      "cell_type": "markdown",
      "metadata": {
        "id": "Y_leiLlCOHvG"
      },
      "source": [
        "# Bagging\n"
      ]
    },
    {
      "cell_type": "code",
      "metadata": {
        "colab": {
          "base_uri": "https://localhost:8080/"
        },
        "id": "m_EfMz4fNaFr",
        "outputId": "586368d3-7701-4720-8a1f-71c661674dcf"
      },
      "source": [
        "tree = DecisionTreeClassifier(criterion='entropy', max_depth=None, random_state=0)\n",
        "bag = BaggingClassifier(base_estimator=tree, n_estimators=500, \n",
        "                        max_samples=0.8, bootstrap=True,\n",
        "                        max_features=1.0, bootstrap_features=False, \n",
        "                        n_jobs=1, random_state=1)\n",
        "\n",
        "# Bagging\n",
        "bag = bag.fit(x_train, y_train)\n",
        "y_train_pred = bag.predict(x_train)\n",
        "y_test_pred = bag.predict(x_test)\n",
        "\n",
        "bag_train = accuracy_score(y_train, y_train_pred) \n",
        "bag_test = accuracy_score(y_test, y_test_pred) \n",
        "print(\"[Bagging]\")\n",
        "print(\"Train Acc:\", bag_train)\n",
        "print(\"Test  Acc:\", bag_test)"
      ],
      "execution_count": 294,
      "outputs": [
        {
          "output_type": "stream",
          "name": "stdout",
          "text": [
            "[Bagging]\n",
            "Train Acc: 1.0\n",
            "Test  Acc: 0.8162162162162162\n"
          ]
        }
      ]
    },
    {
      "cell_type": "markdown",
      "metadata": {
        "id": "cxUxhYFePpMm"
      },
      "source": [
        "# Boosting - AdaBoost"
      ]
    },
    {
      "cell_type": "code",
      "metadata": {
        "colab": {
          "base_uri": "https://localhost:8080/"
        },
        "id": "_Re90_lSPosR",
        "outputId": "6046e421-8eb0-4724-e682-6b5af4851ecc"
      },
      "source": [
        "# adaboost\n",
        "ada_pipeline = Pipeline(\n",
        "    steps = [\n",
        "        (\"clf\", AdaBoostClassifier(base_estimator=DecisionTreeClassifier()))     \n",
        "    ]\n",
        ")\n",
        "\n",
        "# single decision tree\n",
        "####################################################################\n",
        "# Using base tree with decision stump(depth=1)\n",
        "params_grid = {\n",
        "    'clf__base_estimator__max_depth': [1],\n",
        "    'clf__n_estimators': [1, 5, 10, 30, 50, 70, 90, 100, 200]\n",
        "}\n",
        "stump_grid = GridSearchCV(\n",
        "    estimator = ada_pipeline, \n",
        "    param_grid = params_grid, \n",
        "    scoring = \"accuracy\", \n",
        "    cv = 5\n",
        ")\n",
        "stump_grid.fit(x_train, y_train)\n",
        "\n",
        "\n",
        "y_train_pred = stump_grid.predict(x_train)\n",
        "y_test_pred = stump_grid.predict(x_test)\n",
        "\n",
        "stump_ada_train = accuracy_score(y_train, y_train_pred) \n",
        "stump_ada_test = accuracy_score(y_test, y_test_pred) \n",
        "print(\"[Adaboost_BaseTree_MaxDepth=1]\")\n",
        "print(\"Train Acc:\", stump_ada_train)\n",
        "print(\"Test  Acc:\", stump_ada_test)\n",
        "print(stump_grid.best_params_)\n",
        "\n",
        "\n",
        "####################################################################\n",
        "# Using base tree with decision stump(depth=best_depth)\n",
        "params_grid = {\n",
        "    'clf__base_estimator__max_depth': [5, 7, 9, 10, 20],\n",
        "    'clf__n_estimators': [1, 10, 50, 100, 150, 200]\n",
        "}\n",
        "\n",
        "ada_grid = GridSearchCV(\n",
        "    estimator = ada_pipeline, \n",
        "    param_grid = params_grid, \n",
        "    scoring = \"accuracy\",\n",
        "    n_jobs = 2,\n",
        "    cv = 5\n",
        ")\n",
        "\n",
        "ada_grid.fit(x_train, y_train)\n",
        "\n",
        "y_train_pred = ada_grid.predict(x_train)\n",
        "y_test_pred = ada_grid.predict(x_test)\n",
        "\n",
        "ada_train = accuracy_score(y_train, y_train_pred) \n",
        "ada_test = accuracy_score(y_test, y_test_pred) \n",
        "print(\"[Adaboost_BaseTree_MaxDepth=Best]\")\n",
        "print(\"Train Acc:\", ada_train)\n",
        "print(\"Test  Acc:\", ada_test)\n",
        "print(ada_grid.best_params_)"
      ],
      "execution_count": 293,
      "outputs": [
        {
          "output_type": "stream",
          "name": "stdout",
          "text": [
            "[Adaboost_BaseTree_MaxDepth=1]\n",
            "Train Acc: 0.6734417344173442\n",
            "Test  Acc: 0.6\n",
            "{'clf__base_estimator__max_depth': 1, 'clf__n_estimators': 100}\n",
            "[Adaboost_BaseTree_MaxDepth=Best]\n",
            "Train Acc: 1.0\n",
            "Test  Acc: 0.8108108108108109\n",
            "{'clf__base_estimator__max_depth': 10, 'clf__n_estimators': 200}\n"
          ]
        }
      ]
    },
    {
      "cell_type": "code",
      "metadata": {
        "colab": {
          "base_uri": "https://localhost:8080/",
          "height": 553
        },
        "id": "N4qP3oYHUmrN",
        "outputId": "e5c64c5d-9592-42e5-f770-6e5086a8f0cb"
      },
      "source": [
        "data = pd.DataFrame(ada_grid.cv_results_)\n",
        "df = data.pivot(index='param_clf__base_estimator__max_depth', columns='param_clf__n_estimators', values='mean_test_score')\n",
        "fig, ax = plt.subplots(dpi=300, figsize=(8, 8))\n",
        "sns.heatmap(data=df, ax=ax, annot=True, cmap=plt.cm.Blues)\n",
        "ax.set_title('Test Acc with Different Params')\n",
        "ax.set_xlabel('#Estimators of Adaboost')\n",
        "ax.set_ylabel('Max Depth of Decision Tree')\n",
        "ax.invert_yaxis()\n",
        "plt.show()"
      ],
      "execution_count": 281,
      "outputs": [
        {
          "output_type": "display_data",
          "data": {
            "image/png": "[encoded data removed]",
            "text/plain": [
              "<Figure size 600x600 with 2 Axes>"
            ]
          },
          "metadata": {}
        }
      ]
    },
    {
      "cell_type": "markdown",
      "metadata": {
        "id": "bSJycoozo1y1"
      },
      "source": [
        "# Conclusion\n",
        "\n",
        "According to the experiments mentioned before, we can observe that \n",
        "\n",
        "**Adaboost_BaseTree_MaxDepth=1** have test_acc **0.6** (DecisionTree_Depth = 1, Adaboost_Estimator = 100).\n",
        "\n",
        "**Adaboost_BaseTree_MaxDepth=Best** show the best test_acc overall with **0.816216** (DecisionTree_Depth = 10, Adaboost_Estimator = 150).\n",
        "\n",
        "But sometimes **Adaboost** performance is worse than **Bagging** ,not stable at all."
      ]
    }
  ]
}