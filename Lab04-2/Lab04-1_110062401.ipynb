{
  "nbformat": 4,
  "nbformat_minor": 0,
  "metadata": {
    "colab": {
      "name": "Lab04-1_110062401.ipynb",
      "provenance": [],
      "collapsed_sections": []
    },
    "kernelspec": {
      "name": "python3",
      "display_name": "Python 3"
    },
    "language_info": {
      "name": "python"
    }
  },
  "cells": [
    {
      "cell_type": "code",
      "metadata": {
        "colab": {
          "base_uri": "https://localhost:8080/",
          "height": 204
        },
        "id": "nPbjZJuAc5NJ",
        "outputId": "c403c4e7-f91f-486f-af2e-7afe06ef9409"
      },
      "source": [
        "# Do not modify\n",
        "import pandas as pd\n",
        "import numpy as np\n",
        "import matplotlib.pyplot as plt\n",
        "from IPython.display import Image\n",
        "from sklearn.model_selection import train_test_split\n",
        "from sklearn.preprocessing import StandardScaler, PolynomialFeatures\n",
        "from sklearn.ensemble import RandomForestRegressor\n",
        "from sklearn.metrics import mean_squared_error, r2_score\n",
        "from sklearn.linear_model import LinearRegression\n",
        "from scipy.stats import zscore\n",
        "# inline plotting instead of popping out\n",
        "%matplotlib inline\n",
        "\n",
        "\n",
        "df = pd.read_csv(\n",
        "    'http://archive.ics.uci.edu/ml/machine-learning-databases/00381/PRSA_data_2010.1.1-2014.12.31.csv',\n",
        "    sep=',')\n",
        "df.head()\n"
      ],
      "execution_count": 35,
      "outputs": [
        {
          "output_type": "execute_result",
          "data": {
            "text/html": [
              "<div>\n",
              "<style scoped>\n",
              "    .dataframe tbody tr th:only-of-type {\n",
              "        vertical-align: middle;\n",
              "    }\n",
              "\n",
              "    .dataframe tbody tr th {\n",
              "        vertical-align: top;\n",
              "    }\n",
              "\n",
              "    .dataframe thead th {\n",
              "        text-align: right;\n",
              "    }\n",
              "</style>\n",
              "<table border=\"1\" class=\"dataframe\">\n",
              "  <thead>\n",
              "    <tr style=\"text-align: right;\">\n",
              "      <th></th>\n",
              "      <th>No</th>\n",
              "      <th>year</th>\n",
              "      <th>month</th>\n",
              "      <th>day</th>\n",
              "      <th>hour</th>\n",
              "      <th>pm2.5</th>\n",
              "      <th>DEWP</th>\n",
              "      <th>TEMP</th>\n",
              "      <th>PRES</th>\n",
              "      <th>cbwd</th>\n",
              "      <th>Iws</th>\n",
              "      <th>Is</th>\n",
              "      <th>Ir</th>\n",
              "    </tr>\n",
              "  </thead>\n",
              "  <tbody>\n",
              "    <tr>\n",
              "      <th>0</th>\n",
              "      <td>1</td>\n",
              "      <td>2010</td>\n",
              "      <td>1</td>\n",
              "      <td>1</td>\n",
              "      <td>0</td>\n",
              "      <td>NaN</td>\n",
              "      <td>-21</td>\n",
              "      <td>-11.0</td>\n",
              "      <td>1021.0</td>\n",
              "      <td>NW</td>\n",
              "      <td>1.79</td>\n",
              "      <td>0</td>\n",
              "      <td>0</td>\n",
              "    </tr>\n",
              "    <tr>\n",
              "      <th>1</th>\n",
              "      <td>2</td>\n",
              "      <td>2010</td>\n",
              "      <td>1</td>\n",
              "      <td>1</td>\n",
              "      <td>1</td>\n",
              "      <td>NaN</td>\n",
              "      <td>-21</td>\n",
              "      <td>-12.0</td>\n",
              "      <td>1020.0</td>\n",
              "      <td>NW</td>\n",
              "      <td>4.92</td>\n",
              "      <td>0</td>\n",
              "      <td>0</td>\n",
              "    </tr>\n",
              "    <tr>\n",
              "      <th>2</th>\n",
              "      <td>3</td>\n",
              "      <td>2010</td>\n",
              "      <td>1</td>\n",
              "      <td>1</td>\n",
              "      <td>2</td>\n",
              "      <td>NaN</td>\n",
              "      <td>-21</td>\n",
              "      <td>-11.0</td>\n",
              "      <td>1019.0</td>\n",
              "      <td>NW</td>\n",
              "      <td>6.71</td>\n",
              "      <td>0</td>\n",
              "      <td>0</td>\n",
              "    </tr>\n",
              "    <tr>\n",
              "      <th>3</th>\n",
              "      <td>4</td>\n",
              "      <td>2010</td>\n",
              "      <td>1</td>\n",
              "      <td>1</td>\n",
              "      <td>3</td>\n",
              "      <td>NaN</td>\n",
              "      <td>-21</td>\n",
              "      <td>-14.0</td>\n",
              "      <td>1019.0</td>\n",
              "      <td>NW</td>\n",
              "      <td>9.84</td>\n",
              "      <td>0</td>\n",
              "      <td>0</td>\n",
              "    </tr>\n",
              "    <tr>\n",
              "      <th>4</th>\n",
              "      <td>5</td>\n",
              "      <td>2010</td>\n",
              "      <td>1</td>\n",
              "      <td>1</td>\n",
              "      <td>4</td>\n",
              "      <td>NaN</td>\n",
              "      <td>-20</td>\n",
              "      <td>-12.0</td>\n",
              "      <td>1018.0</td>\n",
              "      <td>NW</td>\n",
              "      <td>12.97</td>\n",
              "      <td>0</td>\n",
              "      <td>0</td>\n",
              "    </tr>\n",
              "  </tbody>\n",
              "</table>\n",
              "</div>"
            ],
            "text/plain": [
              "   No  year  month  day  hour  pm2.5  DEWP  TEMP    PRES cbwd    Iws  Is  Ir\n",
              "0   1  2010      1    1     0    NaN   -21 -11.0  1021.0   NW   1.79   0   0\n",
              "1   2  2010      1    1     1    NaN   -21 -12.0  1020.0   NW   4.92   0   0\n",
              "2   3  2010      1    1     2    NaN   -21 -11.0  1019.0   NW   6.71   0   0\n",
              "3   4  2010      1    1     3    NaN   -21 -14.0  1019.0   NW   9.84   0   0\n",
              "4   5  2010      1    1     4    NaN   -20 -12.0  1018.0   NW  12.97   0   0"
            ]
          },
          "metadata": {},
          "execution_count": 35
        }
      ]
    },
    {
      "cell_type": "code",
      "metadata": {
        "colab": {
          "base_uri": "https://localhost:8080/",
          "height": 419
        },
        "id": "BRifpS5_dDaP",
        "outputId": "ab569a93-2f40-4cfe-bea4-ef36c9c3c302"
      },
      "source": [
        "# Do not modify\n",
        "df = df.drop(['cbwd'], axis=1)  # drop non-scalar feature\n",
        "df = df.dropna(axis=0, how='any')  # drop samples who has nan feature\n",
        "\n",
        "#remove outlier\n",
        "z_scores = zscore(df)\n",
        "abs_z_scores = np.abs(z_scores)\n",
        "df = df[(abs_z_scores < 3).all(axis=1)]\n",
        "display(df)\n"
      ],
      "execution_count": 36,
      "outputs": [
        {
          "output_type": "display_data",
          "data": {
            "text/html": [
              "<div>\n",
              "<style scoped>\n",
              "    .dataframe tbody tr th:only-of-type {\n",
              "        vertical-align: middle;\n",
              "    }\n",
              "\n",
              "    .dataframe tbody tr th {\n",
              "        vertical-align: top;\n",
              "    }\n",
              "\n",
              "    .dataframe thead th {\n",
              "        text-align: right;\n",
              "    }\n",
              "</style>\n",
              "<table border=\"1\" class=\"dataframe\">\n",
              "  <thead>\n",
              "    <tr style=\"text-align: right;\">\n",
              "      <th></th>\n",
              "      <th>No</th>\n",
              "      <th>year</th>\n",
              "      <th>month</th>\n",
              "      <th>day</th>\n",
              "      <th>hour</th>\n",
              "      <th>pm2.5</th>\n",
              "      <th>DEWP</th>\n",
              "      <th>TEMP</th>\n",
              "      <th>PRES</th>\n",
              "      <th>Iws</th>\n",
              "      <th>Is</th>\n",
              "      <th>Ir</th>\n",
              "    </tr>\n",
              "  </thead>\n",
              "  <tbody>\n",
              "    <tr>\n",
              "      <th>24</th>\n",
              "      <td>25</td>\n",
              "      <td>2010</td>\n",
              "      <td>1</td>\n",
              "      <td>2</td>\n",
              "      <td>0</td>\n",
              "      <td>129.0</td>\n",
              "      <td>-16</td>\n",
              "      <td>-4.0</td>\n",
              "      <td>1020.0</td>\n",
              "      <td>1.79</td>\n",
              "      <td>0</td>\n",
              "      <td>0</td>\n",
              "    </tr>\n",
              "    <tr>\n",
              "      <th>25</th>\n",
              "      <td>26</td>\n",
              "      <td>2010</td>\n",
              "      <td>1</td>\n",
              "      <td>2</td>\n",
              "      <td>1</td>\n",
              "      <td>148.0</td>\n",
              "      <td>-15</td>\n",
              "      <td>-4.0</td>\n",
              "      <td>1020.0</td>\n",
              "      <td>2.68</td>\n",
              "      <td>0</td>\n",
              "      <td>0</td>\n",
              "    </tr>\n",
              "    <tr>\n",
              "      <th>26</th>\n",
              "      <td>27</td>\n",
              "      <td>2010</td>\n",
              "      <td>1</td>\n",
              "      <td>2</td>\n",
              "      <td>2</td>\n",
              "      <td>159.0</td>\n",
              "      <td>-11</td>\n",
              "      <td>-5.0</td>\n",
              "      <td>1021.0</td>\n",
              "      <td>3.57</td>\n",
              "      <td>0</td>\n",
              "      <td>0</td>\n",
              "    </tr>\n",
              "    <tr>\n",
              "      <th>27</th>\n",
              "      <td>28</td>\n",
              "      <td>2010</td>\n",
              "      <td>1</td>\n",
              "      <td>2</td>\n",
              "      <td>3</td>\n",
              "      <td>181.0</td>\n",
              "      <td>-7</td>\n",
              "      <td>-5.0</td>\n",
              "      <td>1022.0</td>\n",
              "      <td>5.36</td>\n",
              "      <td>1</td>\n",
              "      <td>0</td>\n",
              "    </tr>\n",
              "    <tr>\n",
              "      <th>28</th>\n",
              "      <td>29</td>\n",
              "      <td>2010</td>\n",
              "      <td>1</td>\n",
              "      <td>2</td>\n",
              "      <td>4</td>\n",
              "      <td>138.0</td>\n",
              "      <td>-7</td>\n",
              "      <td>-5.0</td>\n",
              "      <td>1022.0</td>\n",
              "      <td>6.25</td>\n",
              "      <td>2</td>\n",
              "      <td>0</td>\n",
              "    </tr>\n",
              "    <tr>\n",
              "      <th>...</th>\n",
              "      <td>...</td>\n",
              "      <td>...</td>\n",
              "      <td>...</td>\n",
              "      <td>...</td>\n",
              "      <td>...</td>\n",
              "      <td>...</td>\n",
              "      <td>...</td>\n",
              "      <td>...</td>\n",
              "      <td>...</td>\n",
              "      <td>...</td>\n",
              "      <td>...</td>\n",
              "      <td>...</td>\n",
              "    </tr>\n",
              "    <tr>\n",
              "      <th>43807</th>\n",
              "      <td>43808</td>\n",
              "      <td>2014</td>\n",
              "      <td>12</td>\n",
              "      <td>31</td>\n",
              "      <td>7</td>\n",
              "      <td>8.0</td>\n",
              "      <td>-22</td>\n",
              "      <td>-5.0</td>\n",
              "      <td>1034.0</td>\n",
              "      <td>143.03</td>\n",
              "      <td>0</td>\n",
              "      <td>0</td>\n",
              "    </tr>\n",
              "    <tr>\n",
              "      <th>43808</th>\n",
              "      <td>43809</td>\n",
              "      <td>2014</td>\n",
              "      <td>12</td>\n",
              "      <td>31</td>\n",
              "      <td>8</td>\n",
              "      <td>8.0</td>\n",
              "      <td>-22</td>\n",
              "      <td>-5.0</td>\n",
              "      <td>1034.0</td>\n",
              "      <td>150.18</td>\n",
              "      <td>0</td>\n",
              "      <td>0</td>\n",
              "    </tr>\n",
              "    <tr>\n",
              "      <th>43809</th>\n",
              "      <td>43810</td>\n",
              "      <td>2014</td>\n",
              "      <td>12</td>\n",
              "      <td>31</td>\n",
              "      <td>9</td>\n",
              "      <td>8.0</td>\n",
              "      <td>-22</td>\n",
              "      <td>-3.0</td>\n",
              "      <td>1034.0</td>\n",
              "      <td>155.99</td>\n",
              "      <td>0</td>\n",
              "      <td>0</td>\n",
              "    </tr>\n",
              "    <tr>\n",
              "      <th>43810</th>\n",
              "      <td>43811</td>\n",
              "      <td>2014</td>\n",
              "      <td>12</td>\n",
              "      <td>31</td>\n",
              "      <td>10</td>\n",
              "      <td>7.0</td>\n",
              "      <td>-22</td>\n",
              "      <td>-2.0</td>\n",
              "      <td>1034.0</td>\n",
              "      <td>163.14</td>\n",
              "      <td>0</td>\n",
              "      <td>0</td>\n",
              "    </tr>\n",
              "    <tr>\n",
              "      <th>43811</th>\n",
              "      <td>43812</td>\n",
              "      <td>2014</td>\n",
              "      <td>12</td>\n",
              "      <td>31</td>\n",
              "      <td>11</td>\n",
              "      <td>12.0</td>\n",
              "      <td>-22</td>\n",
              "      <td>-2.0</td>\n",
              "      <td>1034.0</td>\n",
              "      <td>170.29</td>\n",
              "      <td>0</td>\n",
              "      <td>0</td>\n",
              "    </tr>\n",
              "  </tbody>\n",
              "</table>\n",
              "<p>39061 rows × 12 columns</p>\n",
              "</div>"
            ],
            "text/plain": [
              "          No  year  month  day  hour  pm2.5  DEWP  TEMP    PRES     Iws  Is  Ir\n",
              "24        25  2010      1    2     0  129.0   -16  -4.0  1020.0    1.79   0   0\n",
              "25        26  2010      1    2     1  148.0   -15  -4.0  1020.0    2.68   0   0\n",
              "26        27  2010      1    2     2  159.0   -11  -5.0  1021.0    3.57   0   0\n",
              "27        28  2010      1    2     3  181.0    -7  -5.0  1022.0    5.36   1   0\n",
              "28        29  2010      1    2     4  138.0    -7  -5.0  1022.0    6.25   2   0\n",
              "...      ...   ...    ...  ...   ...    ...   ...   ...     ...     ...  ..  ..\n",
              "43807  43808  2014     12   31     7    8.0   -22  -5.0  1034.0  143.03   0   0\n",
              "43808  43809  2014     12   31     8    8.0   -22  -5.0  1034.0  150.18   0   0\n",
              "43809  43810  2014     12   31     9    8.0   -22  -3.0  1034.0  155.99   0   0\n",
              "43810  43811  2014     12   31    10    7.0   -22  -2.0  1034.0  163.14   0   0\n",
              "43811  43812  2014     12   31    11   12.0   -22  -2.0  1034.0  170.29   0   0\n",
              "\n",
              "[39061 rows x 12 columns]"
            ]
          },
          "metadata": {}
        }
      ]
    },
    {
      "cell_type": "code",
      "metadata": {
        "colab": {
          "base_uri": "https://localhost:8080/"
        },
        "id": "7FWY4FuVdFXd",
        "outputId": "729972ce-8a9b-44ca-fa68-ec0c5b09cb3c"
      },
      "source": [
        "# Do not modify\n",
        "idx = np.logical_or(\n",
        "    np.logical_and(df['year'].values == 2014, df['month'].values < 3),\n",
        "    np.logical_and(df['year'].values == 2013, df['month'].values == 12))\n",
        "X = df.loc[idx].drop('pm2.5', axis=1)\n",
        "y = df.loc[idx]['pm2.5'].values\n",
        "\n",
        "print(X.shape)\n",
        "print(y.shape)"
      ],
      "execution_count": 37,
      "outputs": [
        {
          "output_type": "stream",
          "name": "stdout",
          "text": [
            "(1925, 11)\n",
            "(1925,)\n"
          ]
        }
      ]
    },
    {
      "cell_type": "code",
      "metadata": {
        "colab": {
          "base_uri": "https://localhost:8080/",
          "height": 765
        },
        "id": "OPT0yDKAyk0J",
        "outputId": "7ac470ee-adf4-478f-ba60-ae5b35c59c36"
      },
      "source": [
        "labels = X.columns\n",
        "print(labels)\n",
        "\n",
        "_, subplot_arr = plt.subplots(3, 5, figsize=(20, 12))\n",
        "for idx, label in enumerate(labels):\n",
        "  x_idx = idx // 5\n",
        "  y_idx = idx % 5\n",
        "  subplot_arr[x_idx, y_idx].scatter(df[label], df['pm2.5'])\n",
        "  subplot_arr[x_idx, y_idx].set_xlabel(label)\n",
        "\n",
        "plt.show()\n"
      ],
      "execution_count": 38,
      "outputs": [
        {
          "output_type": "stream",
          "name": "stdout",
          "text": [
            "Index(['No', 'year', 'month', 'day', 'hour', 'DEWP', 'TEMP', 'PRES', 'Iws',\n",
            "       'Is', 'Ir'],\n",
            "      dtype='object')\n"
          ]
        },
        {
          "output_type": "display_data",
          "data": {
            "image/png": "[encoded data removed]",
            "text/plain": [
              "<Figure size 1440x864 with 15 Axes>"
            ]
          },
          "metadata": {
            "needs_background": "light"
          }
        }
      ]
    },
    {
      "cell_type": "code",
      "metadata": {
        "id": "3XSYdPUUTEMj"
      },
      "source": [
        "#Linear Regression\n",
        "class LinearRegressionGD(object):\n",
        "  def __init__(self, eta=0.001, n_iter=20, random_state=1):\n",
        "    self.eta = eta\n",
        "    self.n_iter = n_iter\n",
        "    self.random_state = random_state\n",
        "  \n",
        "  def fit(self, X, y):\n",
        "    rgen = np.random.RandomState(self.random_state)\n",
        "    self.w_ = rgen.normal(loc=0.0, scale=0.01, size=1 + X.shape[1])\n",
        "    self.cost_ = []\n",
        "\n",
        "    for i in range(self.n_iter):\n",
        "      output = self.net_input(X)\n",
        "\n",
        "      #Cost\n",
        "      error = (y - output)\n",
        "      cost = (error**2).sum() / 2.0\n",
        "      self.cost_.append(cost)\n",
        "\n",
        "      #Update Rule\n",
        "      self.w_[1:] += self.eta * X.T.dot(error)\n",
        "      self.w_[0] += self.eta * error.sum()\n",
        "    \n",
        "    return self\n",
        "\n",
        "  def net_input(self, X):\n",
        "    return np.dot(X, self.w_[1:]) + self.w_[0]\n",
        "\n",
        "  def predict(self, X):\n",
        "    return self.net_input(X)"
      ],
      "execution_count": 39,
      "outputs": []
    },
    {
      "cell_type": "markdown",
      "metadata": {
        "id": "7J55vaqtppS9"
      },
      "source": [
        "**Linear(Polynomial) Regressor Model**"
      ]
    },
    {
      "cell_type": "code",
      "metadata": {
        "id": "qp31zCXPnERg",
        "colab": {
          "base_uri": "https://localhost:8080/"
        },
        "outputId": "0d1ed198-036c-40ea-df10-ff877a2f3d85"
      },
      "source": [
        "#Split data\n",
        "x_train, x_test, y_train, y_test = train_test_split(X, y, test_size=0.2, random_state=42)\n",
        "\n",
        "#Standardization\n",
        "poly = PolynomialFeatures(degree=5)\n",
        "X_train_quad = poly.fit_transform(x_train)\n",
        "X_test_quad = poly.fit_transform(x_test)\n",
        "\n",
        "#Training Linear Regressor\n",
        "linearRG = LinearRegression()\n",
        "linearRG.fit(X_train_quad, y_train)\n",
        "\n",
        "#Testing\n",
        "y_train_pred = linearRG.predict(X_train_quad)\n",
        "y_test_pred = linearRG.predict(X_test_quad)\n",
        "\n",
        "print('MSE train: %.2f, test: %.2f' %\n",
        "      (mean_squared_error(y_train, y_train_pred),\n",
        "       mean_squared_error(y_test, y_test_pred)))\n",
        "print('R^2 train: %.2f, test: %.2f' % (r2_score(y_train, y_train_pred),\n",
        "                                       r2_score(y_test, y_test_pred)))\n"
      ],
      "execution_count": 44,
      "outputs": [
        {
          "output_type": "stream",
          "name": "stdout",
          "text": [
            "MSE train: 1268.15, test: 2759.03\n",
            "R^2 train: 0.87, test: 0.72\n"
          ]
        }
      ]
    },
    {
      "cell_type": "code",
      "metadata": {
        "colab": {
          "base_uri": "https://localhost:8080/",
          "height": 441
        },
        "id": "p5wPhljwdFZF",
        "outputId": "61c2a05f-5d57-4ae2-aeb9-8d520cf23cd4"
      },
      "source": [
        "#Residual Plot\n",
        "plt.figure(figsize=(9,6))\n",
        "plt.scatter(\n",
        "    y_train_pred, y_train_pred - y_train, c='grey', marker='o', label='Training data')\n",
        "plt.scatter(\n",
        "    y_test_pred, y_test_pred - y_test, c='green', marker='s', label='Test data')\n",
        "\n",
        "plt.title('Linear (Polynomial) Regressor')\n",
        "plt.xlabel('Predicted values')\n",
        "plt.ylabel('Residuals')\n",
        "plt.legend(loc='upper left')\n",
        "plt.hlines(y=0, xmin=-10, xmax=50, lw=2, color='red')\n",
        "plt.xlim([-10, 50])\n",
        "plt.tight_layout()\n",
        "plt.show()\n"
      ],
      "execution_count": 45,
      "outputs": [
        {
          "output_type": "display_data",
          "data": {
            "image/png": "[encoded data removed]",
            "text/plain": [
              "<Figure size 648x432 with 1 Axes>"
            ]
          },
          "metadata": {
            "needs_background": "light"
          }
        }
      ]
    },
    {
      "cell_type": "markdown",
      "metadata": {
        "id": "OoxIbGkpsfPU"
      },
      "source": [
        "**Random Forest Regressor Model**"
      ]
    },
    {
      "cell_type": "code",
      "metadata": {
        "colab": {
          "base_uri": "https://localhost:8080/"
        },
        "id": "4dvoU9SOseYw",
        "outputId": "e2c771ef-05c8-4777-f0aa-77b991919fb1"
      },
      "source": [
        "#Random Forest Regressor\n",
        "#Split data\n",
        "x_train, x_test, y_train, y_test = train_test_split(X, y, test_size=0.3, random_state=42)\n",
        "\n",
        "#Standardization\n",
        "sc = StandardScaler()\n",
        "x_train_std = sc.fit_transform(x_train)\n",
        "x_test_std = sc.fit_transform(x_test)\n",
        "\n",
        "forest = RandomForestRegressor(n_estimators=1000, criterion='mse', random_state=1, n_jobs=-1)\n",
        "forest.fit(x_train_std, y_train)\n",
        "\n",
        "y_train_pred = forest.predict(x_train_std)\n",
        "y_test_pred = forest.predict(x_test_std)\n",
        "\n",
        "print('MSE train: %.2f, test: %.2f' %\n",
        "      (mean_squared_error(y_train, y_train_pred),\n",
        "       mean_squared_error(y_test, y_test_pred)))\n",
        "print('R^2 train: %.2f, test: %.2f' % (r2_score(y_train, y_train_pred),\n",
        "                                       r2_score(y_test, y_test_pred)))"
      ],
      "execution_count": 46,
      "outputs": [
        {
          "output_type": "stream",
          "name": "stdout",
          "text": [
            "MSE train: 155.88, test: 1569.14\n",
            "R^2 train: 0.98, test: 0.84\n"
          ]
        }
      ]
    },
    {
      "cell_type": "code",
      "metadata": {
        "colab": {
          "base_uri": "https://localhost:8080/",
          "height": 441
        },
        "id": "h267jilntJ13",
        "outputId": "d19c15d6-33b7-4789-d269-5dde33a1cf09"
      },
      "source": [
        "#Residual Plot\n",
        "plt.figure(figsize=(9,6))\n",
        "plt.scatter(\n",
        "    y_train_pred, y_train_pred - y_train, c='gray', marker='o', label='Training data')\n",
        "plt.scatter(\n",
        "    y_test_pred, y_test_pred - y_test, c='green', marker='s', label='Test data')\n",
        "\n",
        "plt.title('RandomForestRegressor')\n",
        "plt.xlabel('Predicted values')\n",
        "plt.ylabel('Residuals')\n",
        "plt.legend(loc='upper left')\n",
        "plt.hlines(y=0, xmin=-10, xmax=50, lw=2, color='red')\n",
        "plt.xlim([-10, 50])\n",
        "plt.tight_layout()\n",
        "plt.show()\n"
      ],
      "execution_count": 47,
      "outputs": [
        {
          "output_type": "display_data",
          "data": {
            "image/png": "[encoded data removed]",
            "text/plain": [
              "<Figure size 648x432 with 1 Axes>"
            ]
          },
          "metadata": {
            "needs_background": "light"
          }
        }
      ]
    }
  ]
}