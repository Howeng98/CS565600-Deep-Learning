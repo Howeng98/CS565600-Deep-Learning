{
  "cells": [
    {
      "cell_type": "code",
      "execution_count": 3,
      "metadata": {
        "id": "AQzC3hzvMVuF"
      },
      "outputs": [],
      "source": [
        "# https://nthu-datalab.github.io/ml/labs/13-1_Seq2Seq-Learning_Neural-Machine-Translation/13-1_Seq2Seq-Learning_Neural-Machine-Translation.html\n",
        "import tensorflow as tf\n",
        "import pandas as pd\n",
        "import re\n",
        "import numpy as np\n",
        "import os\n",
        "import time\n",
        "from sklearn.model_selection import train_test_split"
      ]
    },
    {
      "cell_type": "code",
      "execution_count": 4,
      "metadata": {
        "id": "r67T0fFPMXrD"
      },
      "outputs": [
        {
          "name": "stdout",
          "output_type": "stream",
          "text": [
            "2 Physical GPUs, 1 Logical GPUs\n"
          ]
        },
        {
          "name": "stderr",
          "output_type": "stream",
          "text": [
            "2021-11-20 21:22:33.306619: I tensorflow/stream_executor/cuda/cuda_gpu_executor.cc:939] successful NUMA node read from SysFS had negative value (-1), but there must be at least one NUMA node, so returning NUMA node zero\n",
            "2021-11-20 21:22:33.307692: I tensorflow/stream_executor/cuda/cuda_gpu_executor.cc:939] successful NUMA node read from SysFS had negative value (-1), but there must be at least one NUMA node, so returning NUMA node zero\n",
            "2021-11-20 21:22:33.955718: I tensorflow/stream_executor/cuda/cuda_gpu_executor.cc:939] successful NUMA node read from SysFS had negative value (-1), but there must be at least one NUMA node, so returning NUMA node zero\n",
            "2021-11-20 21:22:33.956444: I tensorflow/stream_executor/cuda/cuda_gpu_executor.cc:939] successful NUMA node read from SysFS had negative value (-1), but there must be at least one NUMA node, so returning NUMA node zero\n",
            "2021-11-20 21:22:33.957337: I tensorflow/stream_executor/cuda/cuda_gpu_executor.cc:939] successful NUMA node read from SysFS had negative value (-1), but there must be at least one NUMA node, so returning NUMA node zero\n",
            "2021-11-20 21:22:33.958011: I tensorflow/stream_executor/cuda/cuda_gpu_executor.cc:939] successful NUMA node read from SysFS had negative value (-1), but there must be at least one NUMA node, so returning NUMA node zero\n",
            "2021-11-20 21:22:33.961776: I tensorflow/core/platform/cpu_feature_guard.cc:151] This TensorFlow binary is optimized with oneAPI Deep Neural Network Library (oneDNN) to use the following CPU instructions in performance-critical operations:  AVX2 FMA\n",
            "To enable them in other operations, rebuild TensorFlow with the appropriate compiler flags.\n",
            "2021-11-20 21:22:33.987086: I tensorflow/stream_executor/cuda/cuda_gpu_executor.cc:939] successful NUMA node read from SysFS had negative value (-1), but there must be at least one NUMA node, so returning NUMA node zero\n",
            "2021-11-20 21:22:33.988045: I tensorflow/stream_executor/cuda/cuda_gpu_executor.cc:939] successful NUMA node read from SysFS had negative value (-1), but there must be at least one NUMA node, so returning NUMA node zero\n",
            "2021-11-20 21:22:33.988942: I tensorflow/stream_executor/cuda/cuda_gpu_executor.cc:939] successful NUMA node read from SysFS had negative value (-1), but there must be at least one NUMA node, so returning NUMA node zero\n",
            "2021-11-20 21:22:38.077978: I tensorflow/stream_executor/cuda/cuda_gpu_executor.cc:939] successful NUMA node read from SysFS had negative value (-1), but there must be at least one NUMA node, so returning NUMA node zero\n",
            "2021-11-20 21:22:38.097973: I tensorflow/stream_executor/cuda/cuda_gpu_executor.cc:939] successful NUMA node read from SysFS had negative value (-1), but there must be at least one NUMA node, so returning NUMA node zero\n",
            "2021-11-20 21:22:38.098715: I tensorflow/stream_executor/cuda/cuda_gpu_executor.cc:939] successful NUMA node read from SysFS had negative value (-1), but there must be at least one NUMA node, so returning NUMA node zero\n",
            "2021-11-20 21:22:38.099326: I tensorflow/core/common_runtime/gpu/gpu_device.cc:1525] Created device /job:localhost/replica:0/task:0/device:GPU:0 with 7379 MB memory:  -> device: 1, name: NVIDIA GeForce GTX 1080, pci bus id: 0000:02:00.0, compute capability: 6.1\n"
          ]
        }
      ],
      "source": [
        "gpus = tf.config.experimental.list_physical_devices('GPU')\n",
        "if gpus:\n",
        "    try:\n",
        "        tf.config.experimental.set_memory_growth(gpus[1], True)\n",
        "        tf.config.experimental.set_visible_devices(gpus[1], 'GPU')\n",
        "        logical_gpus = tf.config.experimental.list_logical_devices('GPU')\n",
        "        print(len(gpus), \"Physical GPUs,\", len(logical_gpus), \"Logical GPUs\")\n",
        "    except RuntimeError as e:\n",
        "        # Memory growth must be set before GPUs have been initialized\n",
        "        print(e)"
      ]
    },
    {
      "cell_type": "code",
      "execution_count": 5,
      "metadata": {},
      "outputs": [],
      "source": [
        "# load the dataset\n",
        "movie_reviews = pd.read_csv(\"./data/IMDB Dataset.csv\")"
      ]
    },
    {
      "cell_type": "markdown",
      "metadata": {},
      "source": [
        "# Data Preprocessing"
      ]
    },
    {
      "cell_type": "code",
      "execution_count": 6,
      "metadata": {},
      "outputs": [
        {
          "data": {
            "text/plain": [
              "False"
            ]
          },
          "execution_count": 6,
          "metadata": {},
          "output_type": "execute_result"
        }
      ],
      "source": [
        "# check if there is any null value in the dataset\n",
        "movie_reviews.isnull().values.any()"
      ]
    },
    {
      "cell_type": "code",
      "execution_count": 7,
      "metadata": {},
      "outputs": [
        {
          "data": {
            "text/plain": [
              "(50000, 2)"
            ]
          },
          "execution_count": 7,
          "metadata": {},
          "output_type": "execute_result"
        }
      ],
      "source": [
        "# show the size of the dataset\n",
        "movie_reviews.shape"
      ]
    },
    {
      "cell_type": "code",
      "execution_count": 8,
      "metadata": {},
      "outputs": [
        {
          "data": {
            "text/html": [
              "<div>\n",
              "<style scoped>\n",
              "    .dataframe tbody tr th:only-of-type {\n",
              "        vertical-align: middle;\n",
              "    }\n",
              "\n",
              "    .dataframe tbody tr th {\n",
              "        vertical-align: top;\n",
              "    }\n",
              "\n",
              "    .dataframe thead th {\n",
              "        text-align: right;\n",
              "    }\n",
              "</style>\n",
              "<table border=\"1\" class=\"dataframe\">\n",
              "  <thead>\n",
              "    <tr style=\"text-align: right;\">\n",
              "      <th></th>\n",
              "      <th>review</th>\n",
              "      <th>sentiment</th>\n",
              "    </tr>\n",
              "  </thead>\n",
              "  <tbody>\n",
              "    <tr>\n",
              "      <th>0</th>\n",
              "      <td>One of the other reviewers has mentioned that ...</td>\n",
              "      <td>positive</td>\n",
              "    </tr>\n",
              "    <tr>\n",
              "      <th>1</th>\n",
              "      <td>A wonderful little production. &lt;br /&gt;&lt;br /&gt;The...</td>\n",
              "      <td>positive</td>\n",
              "    </tr>\n",
              "    <tr>\n",
              "      <th>2</th>\n",
              "      <td>I thought this was a wonderful way to spend ti...</td>\n",
              "      <td>positive</td>\n",
              "    </tr>\n",
              "    <tr>\n",
              "      <th>3</th>\n",
              "      <td>Basically there's a family where a little boy ...</td>\n",
              "      <td>negative</td>\n",
              "    </tr>\n",
              "    <tr>\n",
              "      <th>4</th>\n",
              "      <td>Petter Mattei's \"Love in the Time of Money\" is...</td>\n",
              "      <td>positive</td>\n",
              "    </tr>\n",
              "  </tbody>\n",
              "</table>\n",
              "</div>"
            ],
            "text/plain": [
              "                                              review sentiment\n",
              "0  One of the other reviewers has mentioned that ...  positive\n",
              "1  A wonderful little production. <br /><br />The...  positive\n",
              "2  I thought this was a wonderful way to spend ti...  positive\n",
              "3  Basically there's a family where a little boy ...  negative\n",
              "4  Petter Mattei's \"Love in the Time of Money\" is...  positive"
            ]
          },
          "execution_count": 8,
          "metadata": {},
          "output_type": "execute_result"
        }
      ],
      "source": [
        "# show the first five data in the dataset\n",
        "movie_reviews.head()"
      ]
    },
    {
      "cell_type": "code",
      "execution_count": 9,
      "metadata": {},
      "outputs": [
        {
          "data": {
            "text/plain": [
              "\"One of the other reviewers has mentioned that after watching just 1 Oz episode you'll be hooked. They are right, as this is exactly what happened with me.<br /><br />The first thing that struck me about Oz was its brutality and unflinching scenes of violence, which set in right from the word GO. Trust me, this is not a show for the faint hearted or timid. This show pulls no punches with regards to drugs, sex or violence. Its is hardcore, in the classic use of the word.<br /><br />It is called OZ as that is the nickname given to the Oswald Maximum Security State Penitentary. It focuses mainly on Emerald City, an experimental section of the prison where all the cells have glass fronts and face inwards, so privacy is not high on the agenda. Em City is home to many..Aryans, Muslims, gangstas, Latinos, Christians, Italians, Irish and more....so scuffles, death stares, dodgy dealings and shady agreements are never far away.<br /><br />I would say the main appeal of the show is due to the fact that it goes where other shows wouldn't dare. Forget pretty pictures painted for mainstream audiences, forget charm, forget romance...OZ doesn't mess around. The first episode I ever saw struck me as so nasty it was surreal, I couldn't say I was ready for it, but as I watched more, I developed a taste for Oz, and got accustomed to the high levels of graphic violence. Not just violence, but injustice (crooked guards who'll be sold out for a nickel, inmates who'll kill on order and get away with it, well mannered, middle class inmates being turned into prison bitches due to their lack of street skills or prison experience) Watching Oz, you may become comfortable with what is uncomfortable viewing....thats if you can get in touch with your darker side.\""
            ]
          },
          "execution_count": 9,
          "metadata": {},
          "output_type": "execute_result"
        }
      ],
      "source": [
        "movie_reviews[\"review\"][0]"
      ]
    },
    {
      "cell_type": "code",
      "execution_count": 10,
      "metadata": {},
      "outputs": [],
      "source": [
        "TAG_RE = re.compile(r'<[^>]+>')\n",
        "\n",
        "def remove_tags(text):\n",
        "    return TAG_RE.sub('', text)\n",
        "\n",
        "def preprocess_text(sen):\n",
        "    # Removing html tags\n",
        "    sentence = remove_tags(sen)\n",
        "\n",
        "    # Remove punctuations and numbers\n",
        "    sentence = re.sub('[^a-zA-Z]', ' ', sentence)\n",
        "\n",
        "    # Single character removal\n",
        "    sentence = re.sub(r\"\\s+[a-zA-Z]\\s+\", ' ', sentence)\n",
        "\n",
        "    # Removing multiple spaces\n",
        "    sentence = re.sub(r'\\s+', ' ', sentence)\n",
        "\n",
        "    return sentence"
      ]
    },
    {
      "cell_type": "code",
      "execution_count": 11,
      "metadata": {},
      "outputs": [],
      "source": [
        "X = []\n",
        "sentences = list(movie_reviews['review'])\n",
        "for sen in sentences:\n",
        "    X.append(preprocess_text(sen))\n",
        "\n",
        "# replace the positive with 1, replace the negative with 0\n",
        "y = movie_reviews['sentiment']\n",
        "y = np.array(list(map(lambda x: 1 if x == \"positive\" else 0, y)))"
      ]
    },
    {
      "cell_type": "code",
      "execution_count": 12,
      "metadata": {},
      "outputs": [
        {
          "name": "stdout",
          "output_type": "stream",
          "text": [
            "# training data: 40000\n",
            "# test data: 10000\n"
          ]
        }
      ],
      "source": [
        "# Split the training dataset and test dataset\n",
        "X_train, X_test, y_train, y_test = train_test_split(X, y, test_size=0.20, random_state=42)\n",
        "print(\"# training data: {:d}\\n# test data: {:d}\".format(len(X_train), len(X_test)))"
      ]
    },
    {
      "cell_type": "code",
      "execution_count": 13,
      "metadata": {},
      "outputs": [],
      "source": [
        "tokenizer = tf.keras.preprocessing.text.Tokenizer(num_words=10000)\n",
        "tokenizer.fit_on_texts(X_train)\n",
        "\n",
        "X_train = tokenizer.texts_to_sequences(X_train)\n",
        "X_test = tokenizer.texts_to_sequences(X_test)\n",
        "\n",
        "max_len = 100\n",
        "# padding sentences to the same length\n",
        "X_train = tf.keras.preprocessing.sequence.pad_sequences(X_train, padding='post', maxlen=max_len)\n",
        "X_test = tf.keras.preprocessing.sequence.pad_sequences(X_test, padding='post', maxlen=max_len)"
      ]
    },
    {
      "cell_type": "code",
      "execution_count": 14,
      "metadata": {},
      "outputs": [
        {
          "data": {
            "text/plain": [
              "array([   1,  296,  140, 2854,    2,  405,  614,    1,  263,    5, 3514,\n",
              "        977,    4,   25,   37,   11, 1237,  215,   62,    2,   35,    5,\n",
              "         27,  217,   24,  189, 1430,    7, 1068,   15, 4868,   81,    1,\n",
              "        221,   63,  351,   64,   52,   24,    4, 3547,   13,    6,   19,\n",
              "        192,    4, 8148,  859, 3430, 1720,   17,   23,    4,  158,  194,\n",
              "        175,  106,    9, 1604,  461,   71,  218,    4,  321,    2, 3431,\n",
              "         31,   20,   47,   68, 1844, 4668,   11,    6, 1365,    8,   16,\n",
              "          5, 3475, 1990,   14,   59,    1, 2380,  460,  518,    2,  170,\n",
              "       2524, 2698, 1745,    4,  573,    6,   33,    1, 3750,  198,  345,\n",
              "       3812], dtype=int32)"
            ]
          },
          "execution_count": 14,
          "metadata": {},
          "output_type": "execute_result"
        }
      ],
      "source": [
        "# show the preprocessed data\n",
        "X_train[0]"
      ]
    },
    {
      "cell_type": "code",
      "execution_count": 15,
      "metadata": {},
      "outputs": [
        {
          "data": {
            "text/plain": [
              "(TensorShape([128, 100]), TensorShape([128]))"
            ]
          },
          "execution_count": 15,
          "metadata": {},
          "output_type": "execute_result"
        }
      ],
      "source": [
        "BUFFER_SIZE = len(X_train)\n",
        "BATCH_SIZE = 128\n",
        "steps_per_epoch = len(X_train)//BATCH_SIZE\n",
        "embedding_dim = 256\n",
        "units = 1024\n",
        "# only reserve 10000 words\n",
        "vocab_size = 10000\n",
        "\n",
        "dataset = tf.data.Dataset.from_tensor_slices((X_train, y_train)).shuffle(BUFFER_SIZE)\n",
        "dataset = dataset.batch(BATCH_SIZE, drop_remainder=True)\n",
        "test_dataset = tf.data.Dataset.from_tensor_slices((X_test, y_test))\n",
        "test_dataset = test_dataset.batch(BATCH_SIZE, drop_remainder=False)\n",
        "\n",
        "example_input_batch, example_target_batch = next(iter(dataset))\n",
        "example_input_batch.shape, example_target_batch.shape"
      ]
    },
    {
      "cell_type": "code",
      "execution_count": 16,
      "metadata": {},
      "outputs": [],
      "source": [
        "class Encoder(tf.keras.Model):\n",
        "    def __init__(self, vocab_size, embedding_dim, enc_units, batch_sz):\n",
        "        # vacab_size=10000, embedding_dim=256 enc_units=1024 batch_sz=64\n",
        "        super(Encoder, self).__init__()\n",
        "        self.batch_sz = batch_sz\n",
        "        self.enc_units = enc_units\n",
        "        self.embedding = tf.keras.layers.Embedding(vocab_size, embedding_dim)\n",
        "        self.gru = tf.keras.layers.GRU(self.enc_units,\n",
        "                                       return_sequences=True,\n",
        "                                       return_state=True,\n",
        "                                       recurrent_activation='sigmoid',\n",
        "                                       recurrent_initializer='glorot_uniform')\n",
        "\n",
        "    def call(self, x, hidden):\n",
        "        # x is the training data with shape == (batch_size，max_length)  -> (128, 100)\n",
        "        # which means there are batch_size sentences in one batch, the length of each sentence is max_length\n",
        "        # hidden state shape == (batch_size, units) -> (128, 1024)\n",
        "        # after embedding, x shape == (batch_size, max_length, embedding_dim) -> (128, 100, 256)\n",
        "        x = self.embedding(x)\n",
        "        \n",
        "        # output contains the state(in GRU, the hidden state and the output are same) from all timestamps,\n",
        "        # output shape == (batch_size, max_length, units) -> (128, 100, 1024)\n",
        "        # state is the hidden state of the last timestamp, shape == (batch_size, units) -> (128, 1024)\n",
        "        output, state = self.gru(x, initial_state=hidden)\n",
        "        \n",
        "        return output, state\n",
        "\n",
        "    def initialize_hidden_state(self):\n",
        "        # initialize the first state of the gru,  shape == (batch_size, units) -> (128, 1024)\n",
        "        return tf.zeros((self.batch_sz, self.enc_units))"
      ]
    },
    {
      "cell_type": "code",
      "execution_count": 17,
      "metadata": {},
      "outputs": [
        {
          "name": "stderr",
          "output_type": "stream",
          "text": [
            "2021-11-20 21:22:56.140524: I tensorflow/stream_executor/cuda/cuda_dnn.cc:366] Loaded cuDNN version 8202\n"
          ]
        },
        {
          "name": "stdout",
          "output_type": "stream",
          "text": [
            "Encoder output shape: (batch size, sequence length, units) (128, 100, 1024)\n",
            "Encoder Hidden state shape: (batch size, units) (128, 1024)\n",
            "tf.Tensor([ True  True  True ...  True  True  True], shape=(1024,), dtype=bool)\n"
          ]
        }
      ],
      "source": [
        "encoder = Encoder(vocab_size, embedding_dim, units, BATCH_SIZE)\n",
        "\n",
        "# sample input\n",
        "sample_hidden = encoder.initialize_hidden_state()\n",
        "sample_output, sample_hidden = encoder(example_input_batch, sample_hidden)\n",
        "print('Encoder output shape: (batch size, sequence length, units) {}'.format(sample_output.shape))\n",
        "print('Encoder Hidden state shape: (batch size, units) {}'.format(sample_hidden.shape))\n",
        "# the output and the hidden state of GRU is equal\n",
        "print(sample_output[-1, -1, :] == sample_hidden[-1, :])"
      ]
    },
    {
      "cell_type": "code",
      "execution_count": 18,
      "metadata": {},
      "outputs": [],
      "source": [
        "class LuongAttention(tf.keras.Model):\n",
        "    def __init__(self, units):\n",
        "        super(LuongAttention, self).__init__()\n",
        "        self.Wa = tf.keras.layers.Dense(units)\n",
        "\n",
        "    def call(self, query, values):\n",
        "        # query shape == (batch_size, hidden size)\n",
        "        # hidden_with_time_axis shape == (batch_size, 1, hidden size)\n",
        "        # we are doing this to perform addition to calculate the score\n",
        "        hidden_with_time_axis = tf.expand_dims(query, 1)\n",
        "        # print(hidden_with_time_axis.shape)\n",
        "        # score shape == (batch_size, max_length, 1)\n",
        "        # we get 1 at the last axis because we are applying score to self.V\n",
        "        # the shape of the tensor before applying self.V is (batch_size, max_length, units)\n",
        "        # score = self.V(tf.nn.tanh(self.W1(values) + self.W2(hidden_with_time_axis)))\n",
        "        # score = math_ops.matmul(query, values, transpose_b=True)\n",
        "        \n",
        "        values_transposed = tf.transpose(values, perm=[0, 2, 1])\n",
        "        score = tf.transpose(tf.matmul(hidden_with_time_axis, values_transposed) , perm=[0, 2, 1])\n",
        "\n",
        "        # attention_weights shape == (batch_size, max_length, 1)\n",
        "        attention_weights = tf.nn.softmax(score, axis=1)\n",
        "\n",
        "        # context_vector shape == (batch_size, max_length, hidden_size)\n",
        "        context_vector = attention_weights * values\n",
        "        \n",
        "        # context_vector shape after sum == (batch_size, hidden_size)\n",
        "        context_vector = tf.reduce_sum(context_vector, axis=1)\n",
        "\n",
        "        return context_vector, attention_weights"
      ]
    },
    {
      "cell_type": "code",
      "execution_count": 19,
      "metadata": {},
      "outputs": [],
      "source": [
        "class Decoder(tf.keras.Model):\n",
        "    def __init__(self, dec_units, batch_sz):\n",
        "        super(Decoder, self).__init__()\n",
        "        self.batch_sz = batch_sz\n",
        "        self.dec_units = dec_units\n",
        "        \n",
        "        # pass through four fully connected layers, the model will return \n",
        "        # the probability of the positivity of the sentence\n",
        "        self.fc_1 = tf.keras.layers.Dense(2048)\n",
        "        self.fc_2 = tf.keras.layers.Dense(512)\n",
        "        self.fc_3 = tf.keras.layers.Dense(64)\n",
        "        self.fc_4 = tf.keras.layers.Dense(1)\n",
        "\n",
        "        # used for attention\n",
        "        self.attention = LuongAttention(self.dec_units)\n",
        "\n",
        "    def call(self, hidden, enc_output):\n",
        "        context_vector, attention_weights = self.attention(hidden, enc_output)\n",
        "        output = self.fc_1(context_vector)\n",
        "        output = self.fc_2(output)\n",
        "        output = self.fc_3(output)\n",
        "        output = self.fc_4(output)\n",
        "\n",
        "        return output, attention_weights"
      ]
    },
    {
      "cell_type": "code",
      "execution_count": 20,
      "metadata": {},
      "outputs": [
        {
          "name": "stdout",
          "output_type": "stream",
          "text": [
            "Decoder output shape: (batch_size, vocab size) (128, 1)\n"
          ]
        }
      ],
      "source": [
        "decoder = Decoder(units, BATCH_SIZE)\n",
        "sample_decoder_output, _ = decoder(sample_hidden, sample_output)\n",
        "print('Decoder output shape: (batch_size, vocab size) {}'.format(sample_decoder_output.shape))"
      ]
    },
    {
      "cell_type": "code",
      "execution_count": 21,
      "metadata": {},
      "outputs": [],
      "source": [
        "optimizer = tf.keras.optimizers.Adam()\n",
        "loss_object = tf.keras.losses.BinaryCrossentropy(from_logits=True)\n",
        "\n",
        "def loss_function(real, pred):\n",
        "    loss_ = loss_object(real, pred)\n",
        "    return tf.reduce_mean(loss_)"
      ]
    },
    {
      "cell_type": "code",
      "execution_count": 22,
      "metadata": {},
      "outputs": [],
      "source": [
        "checkpoint_dir = './checkpoints/sentiment-analysis'\n",
        "checkpoint_prefix = os.path.join(checkpoint_dir, \"ckpt\")\n",
        "checkpoint = tf.train.Checkpoint(optimizer=optimizer,\n",
        "                                 encoder=encoder,\n",
        "                                 decoder=decoder)"
      ]
    },
    {
      "cell_type": "code",
      "execution_count": 23,
      "metadata": {},
      "outputs": [],
      "source": [
        "@tf.function\n",
        "def train_step(inp, targ, enc_hidden):\n",
        "    loss = 0\n",
        "\n",
        "    with tf.GradientTape() as tape:\n",
        "        enc_output, enc_hidden = encoder(inp, enc_hidden)\n",
        "\n",
        "        # passing enc_output to the decoder\n",
        "        predictions, _ = decoder(enc_hidden, enc_output)\n",
        "\n",
        "        loss = loss_function(targ, predictions)\n",
        "\n",
        "    # collect all trainable variables\n",
        "    variables = encoder.trainable_variables + decoder.trainable_variables\n",
        "\n",
        "    # calculate the gradients for the whole variables\n",
        "    gradients = tape.gradient(loss, variables)\n",
        "\n",
        "    # apply the gradients on the variables\n",
        "    optimizer.apply_gradients(zip(gradients, variables))\n",
        "\n",
        "    return loss"
      ]
    },
    {
      "cell_type": "code",
      "execution_count": 24,
      "metadata": {},
      "outputs": [
        {
          "name": "stdout",
          "output_type": "stream",
          "text": [
            "Epoch 1 Batch 0 Loss 0.6933\n",
            "Epoch 1 Batch 100 Loss 0.3066\n",
            "Epoch 1 Batch 200 Loss 0.3481\n",
            "Epoch 1 Batch 300 Loss 0.3314\n",
            "Epoch 1 Loss 0.3892\n",
            "Time taken for 1 epoch 27.444125175476074 sec\n",
            "\n",
            "Epoch 2 Batch 0 Loss 0.2262\n",
            "Epoch 2 Batch 100 Loss 0.2826\n",
            "Epoch 2 Batch 200 Loss 0.2098\n",
            "Epoch 2 Batch 300 Loss 0.2587\n",
            "Epoch 2 Loss 0.2609\n",
            "Time taken for 1 epoch 24.36425495147705 sec\n",
            "\n",
            "Epoch 3 Batch 0 Loss 0.2170\n",
            "Epoch 3 Batch 100 Loss 0.2260\n",
            "Epoch 3 Batch 200 Loss 0.2979\n",
            "Epoch 3 Batch 300 Loss 0.3225\n",
            "Epoch 3 Loss 0.2057\n",
            "Time taken for 1 epoch 23.191755294799805 sec\n",
            "\n",
            "Epoch 4 Batch 0 Loss 0.2000\n",
            "Epoch 4 Batch 100 Loss 0.1641\n",
            "Epoch 4 Batch 200 Loss 0.3028\n",
            "Epoch 4 Batch 300 Loss 0.2016\n",
            "Epoch 4 Loss 0.1497\n",
            "Time taken for 1 epoch 24.496309757232666 sec\n",
            "\n",
            "Epoch 5 Batch 0 Loss 0.1170\n",
            "Epoch 5 Batch 100 Loss 0.1025\n",
            "Epoch 5 Batch 200 Loss 0.1015\n",
            "Epoch 5 Batch 300 Loss 0.0976\n",
            "Epoch 5 Loss 0.0985\n",
            "Time taken for 1 epoch 23.368785858154297 sec\n",
            "\n",
            "Epoch 6 Batch 0 Loss 0.0406\n",
            "Epoch 6 Batch 100 Loss 0.0238\n",
            "Epoch 6 Batch 200 Loss 0.0440\n",
            "Epoch 6 Batch 300 Loss 0.0993\n",
            "Epoch 6 Loss 0.0609\n",
            "Time taken for 1 epoch 24.083682775497437 sec\n",
            "\n",
            "Epoch 7 Batch 0 Loss 0.0367\n",
            "Epoch 7 Batch 100 Loss 0.0829\n",
            "Epoch 7 Batch 200 Loss 0.0494\n",
            "Epoch 7 Batch 300 Loss 0.0847\n",
            "Epoch 7 Loss 0.0472\n",
            "Time taken for 1 epoch 23.33087396621704 sec\n",
            "\n",
            "Epoch 8 Batch 0 Loss 0.0057\n",
            "Epoch 8 Batch 100 Loss 0.1053\n",
            "Epoch 8 Batch 200 Loss 0.0125\n",
            "Epoch 8 Batch 300 Loss 0.0414\n",
            "Epoch 8 Loss 0.0350\n",
            "Time taken for 1 epoch 23.98412561416626 sec\n",
            "\n",
            "Epoch 9 Batch 0 Loss 0.0181\n",
            "Epoch 9 Batch 100 Loss 0.0299\n",
            "Epoch 9 Batch 200 Loss 0.0118\n",
            "Epoch 9 Batch 300 Loss 0.0077\n",
            "Epoch 9 Loss 0.0286\n",
            "Time taken for 1 epoch 23.378133535385132 sec\n",
            "\n",
            "Epoch 10 Batch 0 Loss 0.0241\n",
            "Epoch 10 Batch 100 Loss 0.0264\n",
            "Epoch 10 Batch 200 Loss 0.0385\n",
            "Epoch 10 Batch 300 Loss 0.0458\n",
            "Epoch 10 Loss 0.0241\n",
            "Time taken for 1 epoch 24.15994143486023 sec\n",
            "\n"
          ]
        }
      ],
      "source": [
        "# set the epochs for training\n",
        "EPOCHS = 10\n",
        "\n",
        "for epoch in range(EPOCHS):\n",
        "    start = time.time()\n",
        "\n",
        "    # get the initial hidden state of gru\n",
        "    enc_hidden = encoder.initialize_hidden_state()\n",
        "    total_loss = 0\n",
        "\n",
        "    for (batch, (inp, targ)) in enumerate(dataset.take(steps_per_epoch)):\n",
        "        batch_loss = train_step(inp, targ, enc_hidden)\n",
        "        total_loss += batch_loss\n",
        "\n",
        "        if batch % 100 == 0:\n",
        "            print('Epoch {} Batch {} Loss {:.4f}'.format(epoch + 1,\n",
        "                                                         batch,\n",
        "                                                         batch_loss.numpy()))\n",
        "\n",
        "    # saving (checkpoint) the model every 2 epochs\n",
        "    if (epoch + 1) % 2 == 0:\n",
        "        checkpoint.save(file_prefix=checkpoint_prefix)\n",
        "\n",
        "    print('Epoch {} Loss {:.4f}'.format(epoch + 1,\n",
        "                                        total_loss / steps_per_epoch))\n",
        "    print('Time taken for 1 epoch {} sec\\n'.format(time.time() - start))"
      ]
    },
    {
      "cell_type": "code",
      "execution_count": 25,
      "metadata": {},
      "outputs": [
        {
          "name": "stdout",
          "output_type": "stream",
          "text": [
            "./checkpoints/sentiment-analysis/ckpt-5\n"
          ]
        },
        {
          "data": {
            "text/plain": [
              "<tensorflow.python.training.tracking.util.CheckpointLoadStatus at 0x7f08e06124c0>"
            ]
          },
          "execution_count": 25,
          "metadata": {},
          "output_type": "execute_result"
        }
      ],
      "source": [
        "print(tf.train.latest_checkpoint(checkpoint_dir))\n",
        "# restoring the latest checkpoint in checkpoint_dir\n",
        "checkpoint.restore(tf.train.latest_checkpoint(checkpoint_dir))"
      ]
    },
    {
      "cell_type": "code",
      "execution_count": 26,
      "metadata": {},
      "outputs": [],
      "source": [
        "@tf.function\n",
        "def test_step(inp, enc_hidden):\n",
        "    with tf.GradientTape() as tape:\n",
        "        enc_output, enc_hidden = encoder(inp, enc_hidden)\n",
        "        predictions, attention_weights = decoder(enc_hidden, enc_output)\n",
        "    return predictions, attention_weights"
      ]
    },
    {
      "cell_type": "code",
      "execution_count": 27,
      "metadata": {},
      "outputs": [],
      "source": [
        "def evaluate(test_data):\n",
        "    enc_hidden = encoder.initialize_hidden_state()\n",
        "    \n",
        "    for batch, (inp, targ) in enumerate(test_data):\n",
        "        if len(inp) != BATCH_SIZE:\n",
        "            enc_hidden = tf.zeros((len(inp), units))\n",
        "        # make prediction\n",
        "        if batch == 0:\n",
        "            predictions, attention_weights = test_step(inp, enc_hidden)\n",
        "            predictions, attention_weights = predictions.numpy(), attention_weights.numpy()\n",
        "        else:\n",
        "            _predictions, _attention_weights = test_step(inp, enc_hidden)\n",
        "            _predictions, _attention_weights = _predictions.numpy(), _attention_weights.numpy()\n",
        "            predictions = np.concatenate((predictions, _predictions))\n",
        "            attention_weights = np.concatenate((attention_weights, _attention_weights))\n",
        "    \n",
        "    predictions = np.squeeze(predictions)\n",
        "    attention_weights = np.squeeze(attention_weights)\n",
        "    predictions[np.where(predictions < 0.5)] = 0\n",
        "    predictions[np.where(predictions >= 0.5)] = 1\n",
        "    return predictions, attention_weights"
      ]
    },
    {
      "cell_type": "code",
      "execution_count": 28,
      "metadata": {},
      "outputs": [],
      "source": [
        "y_pred, attention_weights = evaluate(test_dataset)"
      ]
    },
    {
      "cell_type": "code",
      "execution_count": 29,
      "metadata": {},
      "outputs": [
        {
          "name": "stdout",
          "output_type": "stream",
          "text": [
            "Accuracy:  0.8446\n"
          ]
        }
      ],
      "source": [
        "print('Accuracy: ', (y_pred == y_test).sum() / len(y_test))"
      ]
    },
    {
      "cell_type": "code",
      "execution_count": 34,
      "metadata": {},
      "outputs": [
        {
          "name": "stdout",
          "output_type": "stream",
          "text": [
            "y_true: 1\n",
            "y_predict: 0\n",
            "changed it was terrible main event just like every match is in is terrible other matches on the card were razor ramon vs ted brothers vs bodies shawn michaels vs this was the event where shawn named his big monster of body guard vs kid hart first takes on then takes on jerry and stuff with the and was always very interesting then destroyed \u001b[31mmarty\u001b[0m undertaker took on giant in another terrible \u001b[31mmatch\u001b[0m \u001b[31mthe\u001b[0m \u001b[31msmoking\u001b[0m \u001b[31mand\u001b[0m took on \u001b[31mbam\u001b[0m \u001b[31mbam\u001b[0m \u001b[31mand\u001b[0m the and the world title against lex this match was boring and it has terrible ending however \u001b[31mit\u001b[0m \u001b[31mdeserves\u001b[0m \n",
            "\n",
            "\n",
            "y_true: 1\n",
            "y_predict: 1\n",
            "of subject matter \u001b[31mas\u001b[0m are and broken in many ways on many many issues happened to see the pilot \u001b[31mpremiere\u001b[0m \u001b[31min\u001b[0m passing and just had to keep in after that to see if would ever get the girl after seeing them all on television was delighted to see them available on dvd have to admit that it was the only thing that kept me sane whilst had to do hour night shift \u001b[31mand\u001b[0m \u001b[31mdeveloped\u001b[0m \u001b[31minsomnia\u001b[0m \u001b[31mfarscape\u001b[0m was \u001b[31mthe\u001b[0m only thing to get me through those extremely long nights do yourself favour watch the pilot and see what mean \u001b[31mfarscape\u001b[0m \u001b[31mcomet\u001b[0m \n",
            "\n",
            "\n",
            "y_true: 0\n",
            "y_predict: 0\n",
            "destruction the \u001b[31mfirst\u001b[0m really bad thing is the guy steven seagal would have been beaten to pulp by seagal driving \u001b[31mbut\u001b[0m that probably would have \u001b[31mended\u001b[0m the whole premise for the movie it seems like they decided to make all kinds \u001b[31mof\u001b[0m \u001b[31mchanges\u001b[0m in the movie plot so just plan to enjoy the action and do not \u001b[31mexpect\u001b[0m coherent plot turn any sense \u001b[31mof\u001b[0m logic you may have it will your chance of getting headache does give \u001b[31mme\u001b[0m some hope that steven seagal is trying to move back \u001b[31mtowards\u001b[0m the type of characters he portrayed in his more popular \u001b[31mmovies\u001b[0m \n",
            "\n",
            "\n",
            "y_true: 1\n",
            "y_predict: 1\n",
            "jane austen would definitely of this one paltrow does an awesome job capturing the attitude of emma she is funny without being silly yet elegant she puts on very convincing british accent not being british myself maybe m not the best judge but she fooled me she was also excellent in doors sometimes forget she american also brilliant are jeremy \u001b[31mnortham\u001b[0m \u001b[31mand\u001b[0m \u001b[31msophie\u001b[0m \u001b[31mthompson\u001b[0m \u001b[31mand\u001b[0m \u001b[31mlaw\u001b[0m emma \u001b[31mthompson\u001b[0m \u001b[31msister\u001b[0m \u001b[31mand\u001b[0m \u001b[31mmother\u001b[0m as the bates women they nearly steal the show and ms law doesn even have any lines highly recommended \n",
            "\n",
            "\n",
            "y_true: 0\n",
            "y_predict: 0\n",
            "reaches the point where they become obnoxious and simply \u001b[31mfrustrating\u001b[0m touch football puzzle family and talent shows are not how actual people behave it almost \u001b[31msickening\u001b[0m another big flaw is the woman carell is \u001b[31msupposed\u001b[0m to be falling for her in her first scene with steve carell is like watching stroke victim trying to be what imagine is \u001b[31msupposed\u001b[0m to be unique and original in this woman comes \u001b[31moff\u001b[0m as \u001b[31mmildly\u001b[0m \u001b[31mretarded\u001b[0m it makes me think that this \u001b[31mmovie\u001b[0m is taking place on another \u001b[31mplanet\u001b[0m left the theater wondering what just saw after thinking further don think it was \u001b[31mmuch\u001b[0m \n",
            "\n",
            "\n",
            "y_true: 1\n",
            "y_predict: 1\n",
            "the pace quick and energetic but \u001b[31mmost\u001b[0m importantly he knows how to make comedy funny he doesn the jokes and he understands that funny actors know what they re doing and he allows them to do it but segal goes step further he gives tommy boy \u001b[31mfriendly\u001b[0m almost nostalgic tone that both the genuinely and the critics didn like tommy boy shame on them movie doesn have to be super sophisticated or intellectual to be funny god \u001b[31mfarley\u001b[0m \u001b[31mand\u001b[0m \u001b[31mspade\u001b[0m were forced to do muted comedy la the office this is great movie \u001b[31mand\u001b[0m one of \u001b[31mmy\u001b[0m \u001b[31mall\u001b[0m \u001b[31mtime\u001b[0m \u001b[31mfavorites\u001b[0m \n",
            "\n",
            "\n",
            "y_true: 1\n",
            "y_predict: 1\n",
            "for once story of hope over the tragic reality our youth face rising draws one into scary and unfair world and shows through beautiful color and moving music how \u001b[31mone\u001b[0m man and his dedicated friends choose not to accept that world and change it through action and art an entertaining interesting emotional \u001b[31mbeautiful\u001b[0m film \u001b[31mshowed\u001b[0m this film to numerous high school \u001b[31mstudents\u001b[0m as well who \u001b[31mall\u001b[0m live \u001b[31min\u001b[0m with \u001b[31mpoverty\u001b[0m and and gun violence and they were with anderson the protagonist \u001b[31mrecommend\u001b[0m this film to all ages \u001b[31mover\u001b[0m due to subtitles and some images of death from all backgrounds \n",
            "\n",
            "\n",
            "y_true: 1\n",
            "y_predict: 1\n",
            "people and sleeping around that he kept secret from \u001b[31mmost\u001b[0m people he feels free \u001b[31mto\u001b[0m have an affair with quasi because he kevin he figures \u001b[31mout\u001b[0m that he can \u001b[31mfool\u001b[0m some people with cards like hotel \u001b[31mbut\u001b[0m \u001b[31mit\u001b[0m won get him \u001b[31mout\u001b[0m of those the of heaven are keeping track of him and everything he does after reading all the theories on though it seems like identity is reminder of the \u001b[31mdifferent\u001b[0m paths tony could ve taken in his life possibly \u001b[31malong\u001b[0m with the car joke involving that made no sense to me otherwise at that point my brain \u001b[31mout\u001b[0m \n",
            "\n",
            "\n",
            "y_true: 0\n",
            "y_predict: 1\n",
            "over again can remember how many times he said the universe is made out of tiny little strings it like they were trying to us into just accepting are the best thing since bread finally the \u001b[31mshow\u001b[0m ended off with an unpleasant sense of competition between and clearly biased towards this is supposed to be an educational program about quantum physics not about whether the us \u001b[31mis\u001b[0m better than europe or \u001b[31mvice\u001b[0m versa \u001b[31malso\u001b[0m \u001b[31mfelt\u001b[0m that was \u001b[31mpart\u001b[0m of the \u001b[31maudiences\u001b[0m need to see some conflict to remain interested please give me little more credit than that \u001b[31moverall\u001b[0m \u001b[31mthumbs\u001b[0m \u001b[31mdown\u001b[0m \n",
            "\n",
            "\n",
            "y_true: 0\n",
            "y_predict: 0\n",
            "the scenes involving joe character in particular the scenes in the terribly clich but still \u001b[31mfunny\u001b[0m rich but screwed up characters house where the story towards it final moments can see how was great stage play and while the film makers did their best to translate this to celluloid it \u001b[31msimply\u001b[0m didn work and while laughed out loud at some of scenes and one \u001b[31mliners\u001b[0m think the first minutes my senses and \u001b[31mexpectations\u001b[0m to such \u001b[31mdegree\u001b[0m would have laughed at anything unless you re \u001b[31mstuck\u001b[0m for \u001b[31mnovelty\u001b[0m \u001b[31mcoffee\u001b[0m \u001b[31mcoaster\u001b[0m don pick this up if you see it in bargain \u001b[31mbucket\u001b[0m \n",
            "\n",
            "\n"
          ]
        }
      ],
      "source": [
        "from termcolor import colored\n",
        "for idx, data in enumerate(X_test[:10]):\n",
        "    print('y_true: {:d}'.format(y_test[idx]))\n",
        "    print('y_predict: {:.0f}'.format(y_pred[idx]))\n",
        "    \n",
        "    # get the twenty most largest attention weights\n",
        "    large_weights_idx = np.argsort(attention_weights[idx])[::-1][:10]\n",
        "    \n",
        "    for _idx in range(len(data)):\n",
        "        word_idx = data[_idx]\n",
        "        if word_idx != 0:\n",
        "            if _idx in large_weights_idx:\n",
        "                print(colored(tokenizer.index_word[word_idx], 'red'), end=' ')\n",
        "            else:\n",
        "                print(tokenizer.index_word[word_idx], end=' ')\n",
        "    print(\"\\n\\n\")"
      ]
    },
    {
      "cell_type": "code",
      "execution_count": null,
      "metadata": {},
      "outputs": [],
      "source": []
    }
  ],
  "metadata": {
    "colab": {
      "name": "blank.ipynb",
      "provenance": []
    },
    "kernelspec": {
      "display_name": "Python 3",
      "name": "python3"
    },
    "language_info": {
      "codemirror_mode": {
        "name": "ipython",
        "version": 3
      },
      "file_extension": ".py",
      "mimetype": "text/x-python",
      "name": "python",
      "nbconvert_exporter": "python",
      "pygments_lexer": "ipython3",
      "version": "3.8.10"
    }
  },
  "nbformat": 4,
  "nbformat_minor": 0
}
