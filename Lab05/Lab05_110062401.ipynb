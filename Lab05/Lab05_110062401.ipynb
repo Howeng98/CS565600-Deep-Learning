{
  "nbformat": 4,
  "nbformat_minor": 0,
  "metadata": {
    "colab": {
      "name": "Lab05_110062401.ipynb",
      "provenance": [],
      "collapsed_sections": []
    },
    "kernelspec": {
      "name": "python3",
      "display_name": "Python 3"
    },
    "language_info": {
      "name": "python"
    },
    "accelerator": "GPU"
  },
  "cells": [
    {
      "cell_type": "code",
      "metadata": {
        "id": "vAeH758PbCBq"
      },
      "source": [
        "import pandas as pd\n",
        "import numpy as np\n",
        "import matplotlib.pyplot as plt\n",
        "import os\n",
        "from sklearn.linear_model import Ridge\n",
        "from sklearn.model_selection import train_test_split\n",
        "from IPython.display import Image\n",
        "from sklearn.preprocessing import StandardScaler, PolynomialFeatures\n",
        "from sklearn.ensemble import RandomForestRegressor\n",
        "from sklearn.metrics import mean_squared_error, r2_score, accuracy_score, confusion_matrix\n",
        "from sklearn.linear_model import LinearRegression\n",
        "from sklearn import svm\n",
        "import xgboost as xgb"
      ],
      "execution_count": 1,
      "outputs": []
    },
    {
      "cell_type": "code",
      "metadata": {
        "colab": {
          "base_uri": "https://localhost:8080/"
        },
        "id": "3BfalAAdwug0",
        "outputId": "bc35de2f-f07e-4ec8-d071-1321d9be113b"
      },
      "source": [
        "!nvidia-smi"
      ],
      "execution_count": 2,
      "outputs": [
        {
          "output_type": "stream",
          "name": "stdout",
          "text": [
            "Fri Oct  8 07:17:25 2021       \n",
            "+-----------------------------------------------------------------------------+\n",
            "| NVIDIA-SMI 470.74       Driver Version: 460.32.03    CUDA Version: 11.2     |\n",
            "|-------------------------------+----------------------+----------------------+\n",
            "| GPU  Name        Persistence-M| Bus-Id        Disp.A | Volatile Uncorr. ECC |\n",
            "| Fan  Temp  Perf  Pwr:Usage/Cap|         Memory-Usage | GPU-Util  Compute M. |\n",
            "|                               |                      |               MIG M. |\n",
            "|===============================+======================+======================|\n",
            "|   0  Tesla K80           Off  | 00000000:00:04.0 Off |                    0 |\n",
            "| N/A   38C    P8    27W / 149W |      0MiB / 11441MiB |      0%      Default |\n",
            "|                               |                      |                  N/A |\n",
            "+-------------------------------+----------------------+----------------------+\n",
            "                                                                               \n",
            "+-----------------------------------------------------------------------------+\n",
            "| Processes:                                                                  |\n",
            "|  GPU   GI   CI        PID   Type   Process name                  GPU Memory |\n",
            "|        ID   ID                                                   Usage      |\n",
            "|=============================================================================|\n",
            "|  No running processes found                                                 |\n",
            "+-----------------------------------------------------------------------------+\n"
          ]
        }
      ]
    },
    {
      "cell_type": "code",
      "metadata": {
        "colab": {
          "base_uri": "https://localhost:8080/",
          "height": 376
        },
        "id": "QHQnYXwd3Ria",
        "outputId": "d3a52964-2700-41d5-9cf0-4cb2893b7694"
      },
      "source": [
        "path = 'drive/MyDrive/Colab Notebooks/data'\n",
        "X = pd.read_csv(os.path.join(path,'X_train.csv'))\n",
        "Y = pd.read_csv(os.path.join(path,'y_train.csv'))\n",
        "x_test = pd.read_csv(os.path.join(path,'X_test.csv'))\n",
        "\n",
        "display(X.head(10))\n",
        "\n",
        "#From Y, we know this is binary classify problem\n",
        "print(np.unique(Y))\n",
        "\n",
        "X = X.to_numpy()\n",
        "Y = Y.to_numpy()"
      ],
      "execution_count": 4,
      "outputs": [
        {
          "output_type": "display_data",
          "data": {
            "text/html": [
              "<div>\n",
              "<style scoped>\n",
              "    .dataframe tbody tr th:only-of-type {\n",
              "        vertical-align: middle;\n",
              "    }\n",
              "\n",
              "    .dataframe tbody tr th {\n",
              "        vertical-align: top;\n",
              "    }\n",
              "\n",
              "    .dataframe thead th {\n",
              "        text-align: right;\n",
              "    }\n",
              "</style>\n",
              "<table border=\"1\" class=\"dataframe\">\n",
              "  <thead>\n",
              "    <tr style=\"text-align: right;\">\n",
              "      <th></th>\n",
              "      <th>PERIOD</th>\n",
              "      <th>GAME_CLOCK</th>\n",
              "      <th>SHOT_CLOCK</th>\n",
              "      <th>DRIBBLES</th>\n",
              "      <th>TOUCH_TIME</th>\n",
              "      <th>SHOT_DIST</th>\n",
              "      <th>PTS_TYPE</th>\n",
              "      <th>CLOSE_DEF_DIST</th>\n",
              "    </tr>\n",
              "  </thead>\n",
              "  <tbody>\n",
              "    <tr>\n",
              "      <th>0</th>\n",
              "      <td>1</td>\n",
              "      <td>358</td>\n",
              "      <td>2.4</td>\n",
              "      <td>0</td>\n",
              "      <td>3.2</td>\n",
              "      <td>20.6</td>\n",
              "      <td>2</td>\n",
              "      <td>4.5</td>\n",
              "    </tr>\n",
              "    <tr>\n",
              "      <th>1</th>\n",
              "      <td>1</td>\n",
              "      <td>585</td>\n",
              "      <td>8.3</td>\n",
              "      <td>0</td>\n",
              "      <td>1.2</td>\n",
              "      <td>3.0</td>\n",
              "      <td>2</td>\n",
              "      <td>0.5</td>\n",
              "    </tr>\n",
              "    <tr>\n",
              "      <th>2</th>\n",
              "      <td>1</td>\n",
              "      <td>540</td>\n",
              "      <td>19.9</td>\n",
              "      <td>0</td>\n",
              "      <td>0.6</td>\n",
              "      <td>3.5</td>\n",
              "      <td>2</td>\n",
              "      <td>3.2</td>\n",
              "    </tr>\n",
              "    <tr>\n",
              "      <th>3</th>\n",
              "      <td>1</td>\n",
              "      <td>392</td>\n",
              "      <td>9.0</td>\n",
              "      <td>0</td>\n",
              "      <td>0.9</td>\n",
              "      <td>21.1</td>\n",
              "      <td>2</td>\n",
              "      <td>4.9</td>\n",
              "    </tr>\n",
              "    <tr>\n",
              "      <th>4</th>\n",
              "      <td>3</td>\n",
              "      <td>401</td>\n",
              "      <td>22.7</td>\n",
              "      <td>0</td>\n",
              "      <td>0.7</td>\n",
              "      <td>4.1</td>\n",
              "      <td>2</td>\n",
              "      <td>2.9</td>\n",
              "    </tr>\n",
              "    <tr>\n",
              "      <th>5</th>\n",
              "      <td>3</td>\n",
              "      <td>558</td>\n",
              "      <td>18.9</td>\n",
              "      <td>3</td>\n",
              "      <td>2.9</td>\n",
              "      <td>4.1</td>\n",
              "      <td>2</td>\n",
              "      <td>3.3</td>\n",
              "    </tr>\n",
              "    <tr>\n",
              "      <th>6</th>\n",
              "      <td>3</td>\n",
              "      <td>181</td>\n",
              "      <td>18.7</td>\n",
              "      <td>0</td>\n",
              "      <td>1.2</td>\n",
              "      <td>0.7</td>\n",
              "      <td>2</td>\n",
              "      <td>1.2</td>\n",
              "    </tr>\n",
              "    <tr>\n",
              "      <th>7</th>\n",
              "      <td>1</td>\n",
              "      <td>300</td>\n",
              "      <td>17.1</td>\n",
              "      <td>8</td>\n",
              "      <td>7.5</td>\n",
              "      <td>13.8</td>\n",
              "      <td>2</td>\n",
              "      <td>4.3</td>\n",
              "    </tr>\n",
              "    <tr>\n",
              "      <th>8</th>\n",
              "      <td>1</td>\n",
              "      <td>589</td>\n",
              "      <td>12.6</td>\n",
              "      <td>0</td>\n",
              "      <td>0.8</td>\n",
              "      <td>22.5</td>\n",
              "      <td>3</td>\n",
              "      <td>6.1</td>\n",
              "    </tr>\n",
              "    <tr>\n",
              "      <th>9</th>\n",
              "      <td>1</td>\n",
              "      <td>252</td>\n",
              "      <td>12.1</td>\n",
              "      <td>0</td>\n",
              "      <td>0.9</td>\n",
              "      <td>22.9</td>\n",
              "      <td>3</td>\n",
              "      <td>13.5</td>\n",
              "    </tr>\n",
              "  </tbody>\n",
              "</table>\n",
              "</div>"
            ],
            "text/plain": [
              "   PERIOD  GAME_CLOCK  SHOT_CLOCK  ...  SHOT_DIST  PTS_TYPE  CLOSE_DEF_DIST\n",
              "0       1         358         2.4  ...       20.6         2             4.5\n",
              "1       1         585         8.3  ...        3.0         2             0.5\n",
              "2       1         540        19.9  ...        3.5         2             3.2\n",
              "3       1         392         9.0  ...       21.1         2             4.9\n",
              "4       3         401        22.7  ...        4.1         2             2.9\n",
              "5       3         558        18.9  ...        4.1         2             3.3\n",
              "6       3         181        18.7  ...        0.7         2             1.2\n",
              "7       1         300        17.1  ...       13.8         2             4.3\n",
              "8       1         589        12.6  ...       22.5         3             6.1\n",
              "9       1         252        12.1  ...       22.9         3            13.5\n",
              "\n",
              "[10 rows x 8 columns]"
            ]
          },
          "metadata": {}
        },
        {
          "output_type": "stream",
          "name": "stdout",
          "text": [
            "[0 1]\n"
          ]
        }
      ]
    },
    {
      "cell_type": "code",
      "metadata": {
        "colab": {
          "base_uri": "https://localhost:8080/"
        },
        "id": "iqh0i4B03VqK",
        "outputId": "73aff980-8c26-4251-923c-2c3f2e1422bf"
      },
      "source": [
        "x_train, x_valid, y_train, y_valid = train_test_split(X, Y, test_size=0.3, random_state=42)\n",
        "y_train = y_train.reshape(-1)\n",
        "y_valid = y_valid.reshape(-1)\n",
        "\n",
        "#Standardization\n",
        "sc = StandardScaler()\n",
        "x_train_std = sc.fit_transform(x_train)\n",
        "x_valid_std = sc.fit_transform(x_valid)\n",
        "\n",
        "svc = svm.SVC(kernel='poly', degree=3)\n",
        "svc.fit(x_train, y_train)\n",
        "\n",
        "y_train_pred = svc.predict(x_train)\n",
        "y_valid_pred = svc.predict(x_valid)\n",
        "\n",
        "print('MSE train: %.2f, valid: %.2f ' % (\n",
        "                mean_squared_error(y_train, y_train_pred),\n",
        "                mean_squared_error(y_valid, y_valid_pred)))\n",
        "\n",
        "# print('Acc train: %.3f, valid: %.3f ' % (\n",
        "#                 (y_train == y_train_pred).sum()/y_train.shape[0],\n",
        "#                 (y_valid == y_valid_pred).sum()/y_valid.shape[0],))\n",
        "print('Acc train: %.3f, valid: %.3f ' % (\n",
        "                accuracy_score(y_train, y_train_pred),\n",
        "                accuracy_score(y_valid, y_valid_pred)))"
      ],
      "execution_count": 19,
      "outputs": [
        {
          "output_type": "stream",
          "name": "stdout",
          "text": [
            "MSE train: 0.44, valid: 0.44 \n",
            "Acc train: 0.564, valid: 0.564 \n"
          ]
        }
      ]
    },
    {
      "cell_type": "code",
      "metadata": {
        "colab": {
          "base_uri": "https://localhost:8080/"
        },
        "id": "btirProsz_7u",
        "outputId": "866daff3-b1f1-44b8-bcf3-94e550e68bbe"
      },
      "source": [
        "print(y_train[:10])\n",
        "print(y_train_pred[:10])\n",
        "print(y_valid[:10])\n",
        "print(y_valid_pred[:10])\n",
        "print('Acc train: %.3f, valid: %.3f ' % (\n",
        "                accuracy_score(y_train, y_train_pred),\n",
        "                accuracy_score(y_valid, y_valid_pred)))"
      ],
      "execution_count": 23,
      "outputs": [
        {
          "output_type": "stream",
          "name": "stdout",
          "text": [
            "[0 1 1 0 0 0 1 0 0 0]\n",
            "[0 0 0 1 0 0 0 0 0 0]\n",
            "[0 0 1 1 1 0 1 0 0 0]\n",
            "[0 0 0 0 0 0 0 0 0 0]\n",
            "Acc train: 0.564, valid: 0.564 \n"
          ]
        }
      ]
    },
    {
      "cell_type": "code",
      "metadata": {
        "id": "vZ0ZSSPhxWt7"
      },
      "source": [
        "parameters = {'eval_metric':'logloss', \n",
        "              'max_depth':'5', \n",
        "              'colsample_bytree':'0.5',\n",
        "              'subsample':'0.80',\n",
        "              'gpu_id':'0',\n",
        "              'tree_method':'gpu_hist'\n",
        "             }\n",
        "\n",
        "XGB = xgb.XGBClassifier(objective='binary:logistic', parameters=parameters, num_boost_round=50)\n",
        "model = XGB.fit(x_train, y_train)\n",
        "print(model)\n",
        "xgb.plot_importance(model)\n",
        "model.get_xgb_params()"
      ],
      "execution_count": null,
      "outputs": []
    }
  ]
}